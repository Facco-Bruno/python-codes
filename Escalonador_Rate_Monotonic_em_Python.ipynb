{
  "nbformat": 4,
  "nbformat_minor": 0,
  "metadata": {
    "colab": {
      "name": "Escalonador Rate Monotonic em Python.ipynb",
      "provenance": [],
      "collapsed_sections": [],
      "include_colab_link": true
    },
    "kernelspec": {
      "name": "python3",
      "display_name": "Python 3"
    }
  },
  "cells": [
    {
      "cell_type": "markdown",
      "metadata": {
        "id": "view-in-github",
        "colab_type": "text"
      },
      "source": [
        "<a href=\"https://colab.research.google.com/github/Facco-Bruno/python-codes/blob/main/Escalonador_Rate_Monotonic_em_Python.ipynb\" target=\"_parent\"><img src=\"https://colab.research.google.com/assets/colab-badge.svg\" alt=\"Open In Colab\"/></a>"
      ]
    },
    {
      "cell_type": "markdown",
      "metadata": {
        "id": "slnC5vbp9hNr"
      },
      "source": [
        "# **Escalonador Rate Monotonic em Python**\n",
        "\n",
        "Desenvolvimento de uma interface gráfica demonstrando o processo de escalonamento to tipo Rate Monotonic utilizando a linguagem Python\n"
      ]
    },
    {
      "cell_type": "markdown",
      "metadata": {
        "id": "mLTxV-t_GUvU"
      },
      "source": [
        "## Bibliotecas"
      ]
    },
    {
      "cell_type": "code",
      "metadata": {
        "id": "OU19KSld9d8r"
      },
      "source": [
        "# Bibliotecas\n",
        "import copy\n",
        "from sys import *\n",
        "from math import gcd\n",
        "from collections import OrderedDict\n",
        "import matplotlib.pyplot as plt\n",
        "import numpy as np\n",
        "import statistics as st\n",
        "from collections import defaultdict"
      ],
      "execution_count": 46,
      "outputs": []
    },
    {
      "cell_type": "markdown",
      "metadata": {
        "id": "PrsjnxhNGxCC"
      },
      "source": [
        "## Variáveis"
      ]
    },
    {
      "cell_type": "code",
      "metadata": {
        "id": "Us2IwDwkG1Fy"
      },
      "source": [
        "# Criação dos Dicionários\n",
        "\n",
        "tasks = dict()\n",
        "RealTime_task = dict()\n",
        "metrics = defaultdict(dict)\n",
        "d = dict()\n",
        "dList = []\n",
        "T = []\n",
        "C = []\n",
        "U = []\n",
        "\n",
        "# Variaveis do Grafico de Gantt\n",
        "y_axis  = []\n",
        "from_x = []\n",
        "to_x = []"
      ],
      "execution_count": 47,
      "outputs": []
    },
    {
      "cell_type": "markdown",
      "metadata": {
        "id": "AFf5QK_1G3dT"
      },
      "source": [
        "## Função de entrada de dados"
      ]
    },
    {
      "cell_type": "code",
      "metadata": {
        "id": "inGtUVmpG-Z2"
      },
      "source": [
        "# Função para leitura de dados\n",
        "\n",
        "def Ler_dados():\n",
        "\n",
        "\tglobal n\n",
        "\tglobal hp\n",
        "\tglobal tasks\n",
        "\tglobal dList\n",
        "\n",
        "\tdList = {}\n",
        "\n",
        "\tn = int(input(\"Entre com o número de Tasks: \\n\"))\n",
        " \n",
        "\t# Padrão do Dicionario\n",
        "\n",
        "\tfor i in range(n):\n",
        "\t\tdList[\"Tarefa_%d\"%i] = {\"start\":[],\"finish\":[]}\n",
        "\n",
        "\tdList[\"Tarefa_Ociosa\"] = {\"start\":[],\"finish\":[]}\n",
        "\n",
        "\tfor i in range(n):\n",
        "   \n",
        "\t\ttasks[i] = {}\n",
        "\n",
        "\t\tprint(\"Entre com o Período da Tarefa\",i,\":\")\n",
        "\t\tp = input()\n",
        "  \n",
        "\t\ttasks[i][\"Periodo\"] = int(p)\n",
        "  \n",
        "\t\tprint(\"Entre com o Tempo de Comutação\",i,\":\")\n",
        "\t\tw = input()\n",
        "  \n",
        "\t\ttasks[i][\"Comut\"] = int(w)\n"
      ],
      "execution_count": 48,
      "outputs": []
    },
    {
      "cell_type": "markdown",
      "metadata": {
        "id": "25Le8IQAHKIE"
      },
      "source": [
        "## Função para calcular período total"
      ]
    },
    {
      "cell_type": "code",
      "metadata": {
        "id": "_ieAebeGHsXK"
      },
      "source": [
        "# Função para calcular o período total\n",
        "\n",
        "def Periodototal():\n",
        "\n",
        "\ttemp = []\n",
        "\n",
        "\tfor i in range(n):\n",
        "\t\ttemp.append(tasks[i][\"Periodo\"])\n",
        "  \n",
        "\tHP = temp[0]\n",
        "\n",
        "\tfor i in temp[1:]:\n",
        "\t\tHP = HP*i//gcd(HP, i)\n",
        "  \n",
        "\tprint(\"Periodo Total:\", HP,'\\n')\n",
        "\n",
        "\treturn 2*HP"
      ],
      "execution_count": 49,
      "outputs": []
    },
    {
      "cell_type": "markdown",
      "metadata": {
        "id": "jlgKfPI8H3qV"
      },
      "source": [
        "## Função para verificar se o sistema é escalonável ou não"
      ]
    },
    {
      "cell_type": "code",
      "metadata": {
        "id": "ARC5a2C_H8uc"
      },
      "source": [
        "# Função que define o escalonamento dos processos\n",
        "\n",
        "def Escalonavel():\n",
        "\n",
        "\tfor i in range(n):\n",
        "   \n",
        "\t\tT.append(int(tasks[i][\"Periodo\"]))\n",
        "\t\tC.append(int(tasks[i][\"Comut\"]))\n",
        "\t\tu = int(C[i])/int(T[i])\n",
        "\t\tU.append(u)\n",
        "\n",
        "\tU_factor = sum(U)\n",
        " \n",
        "\tif U_factor<=1:\n",
        "    \n",
        "\t\tprint(\"Fator de Utilização: \",U_factor, \"\\n\")\n",
        "\n",
        "\t\tsched_util = n*(2**(1/n)-1)\n",
        "  \n",
        "\t\tprint(\"Checando Condições:\",sched_util, '\\n')\n",
        "\n",
        "\t\tcount = 0\n",
        "\t\tT.sort()\n",
        "  \n",
        "\t\tfor i in range(len(T)):\n",
        "\t\t\tif T[i]%T[0] == 0:\n",
        "\t\t\t\tcount = count + 1\n",
        "\n",
        "\t\t# Verificando as Condições de Escalonamento\n",
        "\n",
        "\t\tif U_factor <= sched_util or count == len(T):\n",
        "    \n",
        "\t\t\tprint(\"Tarefas são escaláveis pelo Rate Monotonic Escalonamento! \\n\")\n",
        "\t\t\treturn True\n",
        "\n",
        "\t\telse:\n",
        "\t\t\tprint(\"Tarefas não são escaláveis pelo Rate Monotonic Escalonamento! \\n\")\n",
        "\t\t\treturn False\n",
        "\n",
        "\tprint(\"Sobrecarregamento de Tarefas! \\n \")\n",
        "\tprint(\"Fator de Utilização > 1 \\n\")\n",
        " \n",
        "\treturn False"
      ],
      "execution_count": 50,
      "outputs": []
    },
    {
      "cell_type": "markdown",
      "metadata": {
        "id": "o808x7-hIG24"
      },
      "source": [
        "## Função para calcular a prioridade"
      ]
    },
    {
      "cell_type": "code",
      "metadata": {
        "id": "nkV0dbLIIJ4I"
      },
      "source": [
        "# Função para cálculo da prioridade\n",
        "\n",
        "def Prioridade(RealTime_task):\n",
        "\t\n",
        "\ttempPeriod = hp\n",
        "\tP = -1    \n",
        "  \n",
        "\tfor i in RealTime_task.keys():\n",
        "   \n",
        "\t\tif (RealTime_task[i][\"Comut\"] != 0):\n",
        "    \n",
        "\t\t\tif (tempPeriod > RealTime_task[i][\"Periodo\"] or tempPeriod > tasks[i][\"Periodo\"]):\n",
        "\t\t\t\ttempPeriod = tasks[i][\"Periodo\"]\n",
        "\t\t\t\tP = i\n",
        "\n",
        "\treturn P"
      ],
      "execution_count": 51,
      "outputs": []
    },
    {
      "cell_type": "markdown",
      "metadata": {
        "id": "ncll9YIcIQku"
      },
      "source": [
        "## Simulação"
      ]
    },
    {
      "cell_type": "code",
      "metadata": {
        "id": "lDm9JudcIUPx"
      },
      "source": [
        "# Função que organiza o funcionamento dos processos\n",
        "\n",
        "def Simulacao(hp):\n",
        "\n",
        "\tglobal RealTime_task\n",
        "\tRealTime_task = copy.deepcopy(tasks)\n",
        "\n",
        "\tfor i in RealTime_task.keys():\n",
        "\t\tRealTime_task[i][\"DCT\"] = RealTime_task[i][\"Comut\"]\n",
        "\n",
        "\t\tif (RealTime_task[i][\"Comut\"] > RealTime_task[i][\"Periodo\"]):\n",
        "\t\t\tprint(\"A tarefa não pode ser completa no tempo! \\n\", i )\n",
        "\n",
        "\t# Loop principal\n",
        "\tfor t in range(hp):\n",
        "\n",
        "\t\t# Determina a prioridade das tarefas\n",
        "\t\tpriority = Prioridade(RealTime_task)\n",
        "\n",
        "    # Processo não está ocioso\n",
        "\t\tif (priority != -1):\n",
        "    \n",
        "\t\t\tprint(\"t{}-->t{} :Tarefa_{} \\n\".format(t,t+1,priority))\n",
        "   \n",
        "\t\t\tRealTime_task[priority][\"Comut\"] -= 1\n",
        "\n",
        "\t\t\tdList[\"Tarefa_%d\"%priority][\"start\"].append(t)\n",
        "\t\t\tdList[\"Tarefa_%d\"%priority][\"finish\"].append(t+1)\n",
        "   \n",
        "\t\t\t# Configurando Gantt\n",
        "\t\t\ty_axis.append(\"Tarefa%d\"%priority)\n",
        "\t\t\tfrom_x.append(t)\n",
        "\t\t\tto_x.append(t+1)\n",
        "\n",
        "    # Processo está ocioso \n",
        "\t\telse:    \n",
        "  \n",
        "\t\t\tprint(\"t{}-->t{} :Ocioso \\n\".format(t,t+1))\n",
        "   \n",
        "\t\t\tdList[\"Tarefa_Ociosa\"][\"start\"].append(t)\n",
        "\t\t\tdList[\"Tarefa_Ociosa\"][\"finish\"].append(t+1)\n",
        "   \n",
        "\t\t\t# Configurando Gantt\n",
        "\t\t\ty_axis.append(\"Ocioso\")\n",
        "\t\t\tfrom_x.append(t)\n",
        "\t\t\tto_x.append(t+1)\n",
        "\n",
        "\t\tfor i in RealTime_task.keys():\n",
        "\t\t\tRealTime_task[i][\"Periodo\"] -= 1\n",
        "\n",
        "\t\t\tif (RealTime_task[i][\"Periodo\"] == 0):\n",
        "\t\t\t\tRealTime_task[i] = copy.deepcopy(tasks[i])\n"
      ],
      "execution_count": 52,
      "outputs": []
    },
    {
      "cell_type": "markdown",
      "metadata": {
        "id": "lAnVpURVIrVD"
      },
      "source": [
        "## Desenhar GANT"
      ]
    },
    {
      "cell_type": "code",
      "metadata": {
        "id": "Kzkvi3aUItX8"
      },
      "source": [
        "# Função para plotar o gráfico de GANTT\n",
        "\n",
        "def Gantt():\n",
        "\t\n",
        "\t  colors = ['red','green','blue','orange','yellow']\n",
        "\t  fig = plt.figure(figsize=(15,5))  # Define o tamanho da figura (largura, altura)\n",
        "\t  ax = fig.add_subplot(111)\n",
        "\t  ax = plt.hlines(y_axis, from_x, to_x, linewidth=20, color = colors[n-1]) # Configurando Eixo Y (valores, xmin, xmax)\n",
        "\t  plt.title('Escalonamento Rate Monotonic')\n",
        "\t  plt.grid(True)\n",
        "\t  plt.xlabel(\"Clock em Tempo Real\")\n",
        "\t  plt.ylabel(\"ALTA------------------Prioridade--------------------->BAIXA\")\n",
        "\t  plt.xticks(np.arange(min(from_x), max(to_x)+1,1)) # Configurando Eixo X, último parametro define o passo do eixo x\n",
        "\t  plt.show()"
      ],
      "execution_count": 53,
      "outputs": []
    },
    {
      "cell_type": "markdown",
      "metadata": {
        "id": "CubCzheoKMzm"
      },
      "source": [
        "## Main"
      ]
    },
    {
      "cell_type": "code",
      "metadata": {
        "id": "YXDjGhQVUfoZ",
        "colab": {
          "base_uri": "https://localhost:8080/",
          "height": 1000
        },
        "outputId": "1860b1c0-13f8-4f72-b06d-d1f3ab48cecb"
      },
      "source": [
        "\n",
        "print(\"\\n_RATE MONOTONIC ESCALONADOR_\\n\")\n",
        "\n",
        "Ler_dados()\n",
        "sched_res = Escalonavel()\n",
        " \n",
        "if sched_res == True:\n",
        "\n",
        "\thp = Periodototal()\n",
        "\tSimulacao(hp)\n",
        "\tGantt()\n",
        "\n",
        "else:\n",
        "\n",
        "\tLer_dados()\n",
        "\tsched_res = Escalonavel()\n"
      ],
      "execution_count": 54,
      "outputs": [
        {
          "output_type": "stream",
          "text": [
            "\n",
            "_RATE MONOTONIC ESCALONADOR_\n",
            "\n",
            "Entre com o número de Tasks: \n",
            "3\n",
            "Entre com o Período da Tarefa 0 :\n",
            "5\n",
            "Entre com o Tempo de Comutação 0 :\n",
            "2\n",
            "Entre com o Período da Tarefa 1 :\n",
            "10\n",
            "Entre com o Tempo de Comutação 1 :\n",
            "2\n",
            "Entre com o Período da Tarefa 2 :\n",
            "20\n",
            "Entre com o Tempo de Comutação 2 :\n",
            "3\n",
            "Fator de Utilização:  0.7500000000000001 \n",
            "\n",
            "Checando Condições: 0.7797631496846196 \n",
            "\n",
            "Tarefas são escaláveis pelo Rate Monotonic Escalonamento! \n",
            "\n",
            "Periodo Total: 20 \n",
            "\n",
            "t0-->t1 :Tarefa_0 \n",
            "\n",
            "t1-->t2 :Tarefa_0 \n",
            "\n",
            "t2-->t3 :Tarefa_1 \n",
            "\n",
            "t3-->t4 :Tarefa_1 \n",
            "\n",
            "t4-->t5 :Tarefa_2 \n",
            "\n",
            "t5-->t6 :Tarefa_0 \n",
            "\n",
            "t6-->t7 :Tarefa_0 \n",
            "\n",
            "t7-->t8 :Tarefa_2 \n",
            "\n",
            "t8-->t9 :Tarefa_2 \n",
            "\n",
            "t9-->t10 :Ocioso \n",
            "\n",
            "t10-->t11 :Tarefa_0 \n",
            "\n",
            "t11-->t12 :Tarefa_0 \n",
            "\n",
            "t12-->t13 :Tarefa_1 \n",
            "\n",
            "t13-->t14 :Tarefa_1 \n",
            "\n",
            "t14-->t15 :Ocioso \n",
            "\n",
            "t15-->t16 :Tarefa_0 \n",
            "\n",
            "t16-->t17 :Tarefa_0 \n",
            "\n",
            "t17-->t18 :Ocioso \n",
            "\n",
            "t18-->t19 :Ocioso \n",
            "\n",
            "t19-->t20 :Ocioso \n",
            "\n",
            "t20-->t21 :Tarefa_0 \n",
            "\n",
            "t21-->t22 :Tarefa_0 \n",
            "\n",
            "t22-->t23 :Tarefa_1 \n",
            "\n",
            "t23-->t24 :Tarefa_1 \n",
            "\n",
            "t24-->t25 :Tarefa_2 \n",
            "\n",
            "t25-->t26 :Tarefa_0 \n",
            "\n",
            "t26-->t27 :Tarefa_0 \n",
            "\n",
            "t27-->t28 :Tarefa_2 \n",
            "\n",
            "t28-->t29 :Tarefa_2 \n",
            "\n",
            "t29-->t30 :Ocioso \n",
            "\n",
            "t30-->t31 :Tarefa_0 \n",
            "\n",
            "t31-->t32 :Tarefa_0 \n",
            "\n",
            "t32-->t33 :Tarefa_1 \n",
            "\n",
            "t33-->t34 :Tarefa_1 \n",
            "\n",
            "t34-->t35 :Ocioso \n",
            "\n",
            "t35-->t36 :Tarefa_0 \n",
            "\n",
            "t36-->t37 :Tarefa_0 \n",
            "\n",
            "t37-->t38 :Ocioso \n",
            "\n",
            "t38-->t39 :Ocioso \n",
            "\n",
            "t39-->t40 :Ocioso \n",
            "\n"
          ],
          "name": "stdout"
        },
        {
          "output_type": "display_data",
          "data": {
            "image/png": "[encoded data removed]",
            "text/plain": [
              "<Figure size 1080x360 with 1 Axes>"
            ]
          },
          "metadata": {
            "needs_background": "light"
          }
        }
      ]
    }
  ]
}