{
  "nbformat": 4,
  "nbformat_minor": 0,
  "metadata": {
    "colab": {
      "name": "E02 - Código de um Neurônio e Rede Perceptron DPEE1085.ipynb",
      "provenance": []
    },
    "kernelspec": {
      "name": "python3",
      "display_name": "Python 3"
    },
    "language_info": {
      "name": "python"
    }
  },
  "cells": [
    {
      "cell_type": "markdown",
      "metadata": {
        "id": "04lRVb-YSg57"
      },
      "source": [
        "### Exercício Neurônio"
      ]
    },
    {
      "cell_type": "code",
      "metadata": {
        "id": "guxCNCjySgKu"
      },
      "source": [
        "import numpy as np\n",
        "from matplotlib import pyplot as plt"
      ],
      "execution_count": null,
      "outputs": []
    },
    {
      "cell_type": "code",
      "metadata": {
        "id": "9ImdMy5ASur9"
      },
      "source": [
        "def tang_hiperbolica(x):\n",
        "  return np.tanh(x)"
      ],
      "execution_count": null,
      "outputs": []
    },
    {
      "cell_type": "code",
      "metadata": {
        "id": "4yqU7Rw5Sw1G"
      },
      "source": [
        "class Neuronio:\n",
        "  def __init__(self, w0, w1, w2, b):\n",
        "    self.w0 = w0\n",
        "    self.w1 = w1\n",
        "    self.w2 = w2\n",
        "    self.b = b\n",
        "\n",
        "  def compute(self, a1, a2, a3):\n",
        "    s = self.w0*a1 + self.w1*a2 + self.w2*a3 + self.b\n",
        "    z = tang_hiperbolica(s)\n",
        "    return z"
      ],
      "execution_count": null,
      "outputs": []
    },
    {
      "cell_type": "code",
      "metadata": {
        "colab": {
          "base_uri": "https://localhost:8080/"
        },
        "id": "KbclbjRPS0LZ",
        "outputId": "a6ffebd2-0c66-44e2-be92-805c13f1fee4"
      },
      "source": [
        "n = Neuronio(-1.0, 0.0, 1.0, -0.5)\n",
        "n.compute(1.0, 2.0, 3.0)"
      ],
      "execution_count": null,
      "outputs": [
        {
          "output_type": "execute_result",
          "data": {
            "text/plain": [
              "0.9051482536448664"
            ]
          },
          "metadata": {},
          "execution_count": 9
        }
      ]
    },
    {
      "cell_type": "code",
      "metadata": {
        "colab": {
          "base_uri": "https://localhost:8080/"
        },
        "id": "ABx8biW0VLHc",
        "outputId": "0ddb6c31-2b69-434d-badc-710bf1b9cbba"
      },
      "source": [
        "n.compute(1.0, 20.0, 3.0)"
      ],
      "execution_count": null,
      "outputs": [
        {
          "output_type": "execute_result",
          "data": {
            "text/plain": [
              "0.9051482536448664"
            ]
          },
          "metadata": {},
          "execution_count": 10
        }
      ]
    },
    {
      "cell_type": "code",
      "metadata": {
        "id": "8tpCAXIlVpWi"
      },
      "source": [
        "### O peso de a2 é 0, ou seja, não muda nada"
      ],
      "execution_count": null,
      "outputs": []
    },
    {
      "cell_type": "markdown",
      "metadata": {
        "id": "1_XndAfkbhwX"
      },
      "source": [
        "### Exercício Perceptron"
      ]
    },
    {
      "cell_type": "code",
      "metadata": {
        "id": "7iuyclhbSrbx"
      },
      "source": [
        "def sigmoid(x):\n",
        "  return 1.0 / (1 + np.exp(-x))"
      ],
      "execution_count": null,
      "outputs": []
    },
    {
      "cell_type": "code",
      "metadata": {
        "id": "Q-WwRQNid09b"
      },
      "source": [
        "class Perceptron():\n",
        "  def __init__(self, n_inputs=4, n_hidden=8, n_outputs=1):\n",
        "    # Sinapses\n",
        "    self.w_ih = np.array([[1.12,0.92,1.28],[-0.88,-1.02,-1.46],[1.06,0.63,0.38],[-1.5,-1.99,-2.31]])\n",
        "    self.w_ho = np.array([[0.54,2.51,-1.81,5.15],[-6.22,-4.08,1.75,-3.47],[5.89,1.58,-1.72,-4.06]])\n",
        "    # Biases\n",
        "    self.b_hid = np.array([[-8.86],[+4.36],[-1.87],[+4.79]])\n",
        "    self.b_out =  np.array([[-0.82],[0.76],[-1.35]])\n",
        "  def compute(self, inputs):\n",
        "    # Garante que a entrada seja um vetor coluna\n",
        "    inputs = np.reshape(inputs,(len(inputs),1))\n",
        "    # Calcula as ativações, camada por camada\n",
        "    self.s_hid = np.dot(self.w_ih, inputs) + self.b_hid\n",
        "    self.z_hid = sigmoid(self.s_hid)\n",
        "    self.s_out = np.dot(self.w_ho, self.z_hid) + self.b_out\n",
        "    self.z_out = sigmoid(self.s_out)\n",
        "    return self.z_out"
      ],
      "execution_count": null,
      "outputs": []
    },
    {
      "cell_type": "code",
      "metadata": {
        "id": "fmG3FxOld3on"
      },
      "source": [
        "p = Perceptron()\n",
        "array1= [1, 1, 1]\n",
        "array2= [2, 2, 2]\n",
        "array3 = [3, 3, 3]"
      ],
      "execution_count": null,
      "outputs": []
    },
    {
      "cell_type": "code",
      "metadata": {
        "colab": {
          "base_uri": "https://localhost:8080/"
        },
        "id": "j3aLc6lbg1TU",
        "outputId": "3995abaf-0e08-4ee2-e4a4-142a764437c6"
      },
      "source": [
        "np.around(p.compute(array1),2)"
      ],
      "execution_count": null,
      "outputs": [
        {
          "output_type": "execute_result",
          "data": {
            "text/plain": [
              "array([[0.8],\n",
              "       [0.1],\n",
              "       [0.1]])"
            ]
          },
          "metadata": {},
          "execution_count": 16
        }
      ]
    },
    {
      "cell_type": "code",
      "metadata": {
        "colab": {
          "base_uri": "https://localhost:8080/"
        },
        "id": "WA3k9kYeg3LK",
        "outputId": "4dbb0a58-0b2a-42d5-c340-5877e44616c1"
      },
      "source": [
        "np.around(p.compute(array2),2)"
      ],
      "execution_count": null,
      "outputs": [
        {
          "output_type": "execute_result",
          "data": {
            "text/plain": [
              "array([[0.1],\n",
              "       [0.8],\n",
              "       [0.1]])"
            ]
          },
          "metadata": {},
          "execution_count": 17
        }
      ]
    },
    {
      "cell_type": "code",
      "metadata": {
        "id": "7O6iebEFg5BR",
        "colab": {
          "base_uri": "https://localhost:8080/"
        },
        "outputId": "cf812c14-35f7-4195-abda-5652f8952ee9"
      },
      "source": [
        "np.around(p.compute(array3),2)"
      ],
      "execution_count": null,
      "outputs": [
        {
          "output_type": "execute_result",
          "data": {
            "text/plain": [
              "array([[0.1],\n",
              "       [0.1],\n",
              "       [0.8]])"
            ]
          },
          "metadata": {},
          "execution_count": 18
        }
      ]
    }
  ]
}