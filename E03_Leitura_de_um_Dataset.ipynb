{
  "nbformat": 4,
  "nbformat_minor": 0,
  "metadata": {
    "colab": {
      "name": "E03 Leitura de um Dataset.ipynb",
      "provenance": [],
      "include_colab_link": true
    },
    "kernelspec": {
      "name": "python3",
      "display_name": "Python 3"
    },
    "language_info": {
      "name": "python"
    }
  },
  "cells": [
    {
      "cell_type": "markdown",
      "metadata": {
        "id": "view-in-github",
        "colab_type": "text"
      },
      "source": [
        "<a href=\"https://colab.research.google.com/github/Facco-Bruno/python-codes/blob/main/E03_Leitura_de_um_Dataset.ipynb\" target=\"_parent\"><img src=\"https://colab.research.google.com/assets/colab-badge.svg\" alt=\"Open In Colab\"/></a>"
      ]
    },
    {
      "cell_type": "code",
      "metadata": {
        "id": "cKYMrg1_FpW_",
        "cellView": "form"
      },
      "source": [
        "#@title\n",
        "%%capture\n",
        "!rm *\n",
        "!gdown --id '1BLyWu9zDytBTGR6vLL-UTSAZhpwRQD6b'\n",
        "!gdown --id '1a5jY17w-SINzRRdq2iH6SFEQiS_ZaAKj'\n",
        "!gdown --id '1RmUz5LqBQbfn02hvPdwP4ICpWVfa_bTV'\n",
        "!gdown --id '1ZkG09pQDz29mOFR5VTMPEirvwClVNj_F'\n",
        "!gdown --id '14zHXla8960NSNjqzf2j1ip8pFYqGyPRJ'\n",
        "#!gdown --id '1vWtNHG3ehZyjmWUlP85i9z4u7G7Ror7L'\n",
        "!gdown --id '1KNQKU68Y_XtFN2AS0guGpKDmiMM3YNij'\n",
        "!gdown --id '1R9LZJw-lvngWOVSInKNhKNkvTPpuS0KI'\n",
        "#!gdown --id '1UaAWEmE6Igp7P9C5EQJby_EykEiI_fZ1'\n",
        "!gdown --id '11vJUJtgumou5hkM1a8TribAXkHDlSpz_'\n",
        "!gdown --id '1jNFpdEtEbtcMgd51K6pjEvjB0hCFEI_E'\n",
        "!gdown --id '1dNZ8LvkczzE1oOdh_S7cu3Z5eG4T4EqG'\n",
        "!pip install git+https://github.com/grading/gradememaybe.git\n",
        "\n",
        "from IPython.display import YouTubeVideo\n",
        "from gofer import ok"
      ],
      "execution_count": null,
      "outputs": []
    },
    {
      "cell_type": "markdown",
      "metadata": {
        "id": "F9uRXrRQCPUT"
      },
      "source": [
        "# 1 Upload do Arquivo\n",
        "\n",
        "Use o espaço abaixo para fazer o upload do arquivo para o ambiente do Google Colab. Para isso você pode usar o comando `gdown` (lembre-se de colocar o sinal de exclamação `!` para chamar comandos na linha de comando, fora do Python)."
      ]
    },
    {
      "cell_type": "code",
      "metadata": {
        "id": "1_gkoGa0B2qK"
      },
      "source": [
        "# Seu código aqui\n",
        "#from google.colab import files\n",
        "\n",
        "#import io\n",
        "\n",
        "#uploaded = files.upload()\n",
        "#f = io.BytesIO(uploaded['Iris.csv'])"
      ],
      "execution_count": null,
      "outputs": []
    },
    {
      "cell_type": "code",
      "metadata": {
        "colab": {
          "base_uri": "https://localhost:8080/"
        },
        "id": "yiMVnzxsbIm9",
        "outputId": "a4989714-8355-448d-a5ee-36869b667cf5"
      },
      "source": [
        "import os\n",
        "os.path.isfile('/content/Iris.csv')"
      ],
      "execution_count": null,
      "outputs": [
        {
          "output_type": "execute_result",
          "data": {
            "text/plain": [
              "True"
            ]
          },
          "metadata": {},
          "execution_count": 66
        }
      ]
    },
    {
      "cell_type": "code",
      "metadata": {
        "id": "jUnzAmJaF-NA",
        "colab": {
          "base_uri": "https://localhost:8080/",
          "height": 46
        },
        "outputId": "e8e5cebe-7b38-4c5e-922e-daf6b32956c7"
      },
      "source": [
        "ok.check('e03_1.py')"
      ],
      "execution_count": null,
      "outputs": [
        {
          "output_type": "execute_result",
          "data": {
            "text/html": [
              "\n",
              "    \n",
              "    \n",
              "        <p>All tests passed!</p>\n",
              "    \n",
              "    "
            ],
            "text/plain": [
              "<gofer.ok.OKTestsResult at 0x7fd96faf1710>"
            ]
          },
          "metadata": {},
          "execution_count": 67
        }
      ]
    },
    {
      "cell_type": "markdown",
      "metadata": {
        "id": "jLT4YiBZInaI"
      },
      "source": [
        "# 2 Leitura do Arquivo\n",
        "\n",
        "Escreva um laço que leia todas as linhas do arquivo, criando uma lista numa variável de nome 'd0', onde cada elemento da lista é uma string que corresponde a uma linha do arquivo."
      ]
    },
    {
      "cell_type": "code",
      "metadata": {
        "id": "r0ErgTEHJFHa"
      },
      "source": [
        "# Seu código aqui\n",
        "f = open('/content/Iris.csv', 'r')\n",
        "linhas = f.readlines()\n",
        "\n",
        "d0 = []\n",
        "\n",
        "for linha in linhas:\n",
        "   d0.append(linha)"
      ],
      "execution_count": null,
      "outputs": []
    },
    {
      "cell_type": "code",
      "metadata": {
        "id": "Qc2PA9M5K0Aj",
        "colab": {
          "base_uri": "https://localhost:8080/",
          "height": 46
        },
        "outputId": "df22c096-a8b4-4502-936b-43bb89c25bb6"
      },
      "source": [
        "ok.check('e03_2.py')"
      ],
      "execution_count": null,
      "outputs": [
        {
          "output_type": "execute_result",
          "data": {
            "text/html": [
              "\n",
              "    \n",
              "    \n",
              "        <p>All tests passed!</p>\n",
              "    \n",
              "    "
            ],
            "text/plain": [
              "<gofer.ok.OKTestsResult at 0x7fd96fac13d0>"
            ]
          },
          "metadata": {},
          "execution_count": 69
        }
      ]
    },
    {
      "cell_type": "markdown",
      "metadata": {
        "id": "l484x8LxMIuX"
      },
      "source": [
        "# 3 Remoção de Cabeçalho e Contagem de Linhas\n",
        "\n",
        "Utilizando a mesma variável `d0`, agora remova o cabeçalho (que deve ser o primeiro elemento da lista), e conte as linhas de dados. Grave o total de linhas numa variável de nome `total`."
      ]
    },
    {
      "cell_type": "code",
      "metadata": {
        "id": "wJf05VUmMG8S"
      },
      "source": [
        "# Seu código aqui\n",
        "\n",
        "d0.pop(0)\n",
        "\n",
        "total = len(d0)"
      ],
      "execution_count": null,
      "outputs": []
    },
    {
      "cell_type": "code",
      "metadata": {
        "id": "enzMyPuXNStY",
        "colab": {
          "base_uri": "https://localhost:8080/",
          "height": 46
        },
        "outputId": "f6b7b121-fa48-4702-e8d2-7a595549f902"
      },
      "source": [
        "ok.check('e03_3.py')"
      ],
      "execution_count": null,
      "outputs": [
        {
          "output_type": "execute_result",
          "data": {
            "text/html": [
              "\n",
              "    \n",
              "    \n",
              "        <p>All tests passed!</p>\n",
              "    \n",
              "    "
            ],
            "text/plain": [
              "<gofer.ok.OKTestsResult at 0x7fd973e7c790>"
            ]
          },
          "metadata": {},
          "execution_count": 71
        }
      ]
    },
    {
      "cell_type": "code",
      "metadata": {
        "colab": {
          "base_uri": "https://localhost:8080/"
        },
        "id": "xvX99uQ4nKNv",
        "outputId": "42f1ea0e-478c-484a-98fe-952d6b238536"
      },
      "source": [
        "d0"
      ],
      "execution_count": null,
      "outputs": [
        {
          "output_type": "execute_result",
          "data": {
            "text/plain": [
              "['1,5.1,3.5,1.4,0.2,Iris-setosa\\n',\n",
              " '2,4.9,3.0,1.4,0.2,Iris-setosa\\n',\n",
              " '3,4.7,3.2,1.3,0.2,Iris-setosa\\n',\n",
              " '4,4.6,3.1,1.5,0.2,Iris-setosa\\n',\n",
              " '5,5.0,3.6,1.4,0.2,Iris-setosa\\n',\n",
              " '6,5.4,3.9,1.7,0.4,Iris-setosa\\n',\n",
              " '7,4.6,3.4,1.4,0.3,Iris-setosa\\n',\n",
              " '8,5.0,3.4,1.5,0.2,Iris-setosa\\n',\n",
              " '9,4.4,2.9,1.4,0.2,Iris-setosa\\n',\n",
              " '10,4.9,3.1,1.5,0.1,Iris-setosa\\n',\n",
              " '11,5.4,3.7,1.5,0.2,Iris-setosa\\n',\n",
              " '12,4.8,3.4,1.6,0.2,Iris-setosa\\n',\n",
              " '13,4.8,3.0,1.4,0.1,Iris-setosa\\n',\n",
              " '14,4.3,3.0,1.1,0.1,Iris-setosa\\n',\n",
              " '15,5.8,4.0,1.2,0.2,Iris-setosa\\n',\n",
              " '16,5.7,4.4,1.5,0.4,Iris-setosa\\n',\n",
              " '17,5.4,3.9,1.3,0.4,Iris-setosa\\n',\n",
              " '18,5.1,3.5,1.4,0.3,Iris-setosa\\n',\n",
              " '19,5.7,3.8,1.7,0.3,Iris-setosa\\n',\n",
              " '20,5.1,3.8,1.5,0.3,Iris-setosa\\n',\n",
              " '21,5.4,3.4,1.7,0.2,Iris-setosa\\n',\n",
              " '22,5.1,3.7,1.5,0.4,Iris-setosa\\n',\n",
              " '23,4.6,3.6,1.0,0.2,Iris-setosa\\n',\n",
              " '24,5.1,3.3,1.7,0.5,Iris-setosa\\n',\n",
              " '25,4.8,3.4,1.9,0.2,Iris-setosa\\n',\n",
              " '26,5.0,3.0,1.6,0.2,Iris-setosa\\n',\n",
              " '27,5.0,3.4,1.6,0.4,Iris-setosa\\n',\n",
              " '28,5.2,3.5,1.5,0.2,Iris-setosa\\n',\n",
              " '29,5.2,3.4,1.4,0.2,Iris-setosa\\n',\n",
              " '30,4.7,3.2,1.6,0.2,Iris-setosa\\n',\n",
              " '31,4.8,3.1,1.6,0.2,Iris-setosa\\n',\n",
              " '32,5.4,3.4,1.5,0.4,Iris-setosa\\n',\n",
              " '33,5.2,4.1,1.5,0.1,Iris-setosa\\n',\n",
              " '34,5.5,4.2,1.4,0.2,Iris-setosa\\n',\n",
              " '35,4.9,3.1,1.5,0.1,Iris-setosa\\n',\n",
              " '36,5.0,3.2,1.2,0.2,Iris-setosa\\n',\n",
              " '37,5.5,3.5,1.3,0.2,Iris-setosa\\n',\n",
              " '38,4.9,3.1,1.5,0.1,Iris-setosa\\n',\n",
              " '39,4.4,3.0,1.3,0.2,Iris-setosa\\n',\n",
              " '40,5.1,3.4,1.5,0.2,Iris-setosa\\n',\n",
              " '41,5.0,3.5,1.3,0.3,Iris-setosa\\n',\n",
              " '42,4.5,2.3,1.3,0.3,Iris-setosa\\n',\n",
              " '43,4.4,3.2,1.3,0.2,Iris-setosa\\n',\n",
              " '44,5.0,3.5,1.6,0.6,Iris-setosa\\n',\n",
              " '45,5.1,3.8,1.9,0.4,Iris-setosa\\n',\n",
              " '46,4.8,3.0,1.4,0.3,Iris-setosa\\n',\n",
              " '47,5.1,3.8,1.6,0.2,Iris-setosa\\n',\n",
              " '48,4.6,3.2,1.4,0.2,Iris-setosa\\n',\n",
              " '49,5.3,3.7,1.5,0.2,Iris-setosa\\n',\n",
              " '50,5.0,3.3,1.4,0.2,Iris-setosa\\n',\n",
              " '51,7.0,3.2,4.7,1.4,Iris-versicolor\\n',\n",
              " '52,6.4,3.2,4.5,1.5,Iris-versicolor\\n',\n",
              " '53,6.9,3.1,4.9,1.5,Iris-versicolor\\n',\n",
              " '54,5.5,2.3,4.0,1.3,Iris-versicolor\\n',\n",
              " '55,6.5,2.8,4.6,1.5,Iris-versicolor\\n',\n",
              " '56,5.7,2.8,4.5,1.3,Iris-versicolor\\n',\n",
              " '57,6.3,3.3,4.7,1.6,Iris-versicolor\\n',\n",
              " '58,4.9,2.4,3.3,1.0,Iris-versicolor\\n',\n",
              " '59,6.6,2.9,4.6,1.3,Iris-versicolor\\n',\n",
              " '60,5.2,2.7,3.9,1.4,Iris-versicolor\\n',\n",
              " '61,5.0,2.0,3.5,1.0,Iris-versicolor\\n',\n",
              " '62,5.9,3.0,4.2,1.5,Iris-versicolor\\n',\n",
              " '63,6.0,2.2,4.0,1.0,Iris-versicolor\\n',\n",
              " '64,6.1,2.9,4.7,1.4,Iris-versicolor\\n',\n",
              " '65,5.6,2.9,3.6,1.3,Iris-versicolor\\n',\n",
              " '66,6.7,3.1,4.4,1.4,Iris-versicolor\\n',\n",
              " '67,5.6,3.0,4.5,1.5,Iris-versicolor\\n',\n",
              " '68,5.8,2.7,4.1,1.0,Iris-versicolor\\n',\n",
              " '69,6.2,2.2,4.5,1.5,Iris-versicolor\\n',\n",
              " '70,5.6,2.5,3.9,1.1,Iris-versicolor\\n',\n",
              " '71,5.9,3.2,4.8,1.8,Iris-versicolor\\n',\n",
              " '72,6.1,2.8,4.0,1.3,Iris-versicolor\\n',\n",
              " '73,6.3,2.5,4.9,1.5,Iris-versicolor\\n',\n",
              " '74,6.1,2.8,4.7,1.2,Iris-versicolor\\n',\n",
              " '75,6.4,2.9,4.3,1.3,Iris-versicolor\\n',\n",
              " '76,6.6,3.0,4.4,1.4,Iris-versicolor\\n',\n",
              " '77,6.8,2.8,4.8,1.4,Iris-versicolor\\n',\n",
              " '78,6.7,3.0,5.0,1.7,Iris-versicolor\\n',\n",
              " '79,6.0,2.9,4.5,1.5,Iris-versicolor\\n',\n",
              " '80,5.7,2.6,3.5,1.0,Iris-versicolor\\n',\n",
              " '81,5.5,2.4,3.8,1.1,Iris-versicolor\\n',\n",
              " '82,5.5,2.4,3.7,1.0,Iris-versicolor\\n',\n",
              " '83,5.8,2.7,3.9,1.2,Iris-versicolor\\n',\n",
              " '84,6.0,2.7,5.1,1.6,Iris-versicolor\\n',\n",
              " '85,5.4,3.0,4.5,1.5,Iris-versicolor\\n',\n",
              " '86,6.0,3.4,4.5,1.6,Iris-versicolor\\n',\n",
              " '87,6.7,3.1,4.7,1.5,Iris-versicolor\\n',\n",
              " '88,6.3,2.3,4.4,1.3,Iris-versicolor\\n',\n",
              " '89,5.6,3.0,4.1,1.3,Iris-versicolor\\n',\n",
              " '90,5.5,2.5,4.0,1.3,Iris-versicolor\\n',\n",
              " '91,5.5,2.6,4.4,1.2,Iris-versicolor\\n',\n",
              " '92,6.1,3.0,4.6,1.4,Iris-versicolor\\n',\n",
              " '93,5.8,2.6,4.0,1.2,Iris-versicolor\\n',\n",
              " '94,5.0,2.3,3.3,1.0,Iris-versicolor\\n',\n",
              " '95,5.6,2.7,4.2,1.3,Iris-versicolor\\n',\n",
              " '96,5.7,3.0,4.2,1.2,Iris-versicolor\\n',\n",
              " '97,5.7,2.9,4.2,1.3,Iris-versicolor\\n',\n",
              " '98,6.2,2.9,4.3,1.3,Iris-versicolor\\n',\n",
              " '99,5.1,2.5,3.0,1.1,Iris-versicolor\\n',\n",
              " '100,5.7,2.8,4.1,1.3,Iris-versicolor\\n',\n",
              " '101,6.3,3.3,6.0,2.5,Iris-virginica\\n',\n",
              " '102,5.8,2.7,5.1,1.9,Iris-virginica\\n',\n",
              " '103,7.1,3.0,5.9,2.1,Iris-virginica\\n',\n",
              " '104,6.3,2.9,5.6,1.8,Iris-virginica\\n',\n",
              " '105,6.5,3.0,5.8,2.2,Iris-virginica\\n',\n",
              " '106,7.6,3.0,6.6,2.1,Iris-virginica\\n',\n",
              " '107,4.9,2.5,4.5,1.7,Iris-virginica\\n',\n",
              " '108,7.3,2.9,6.3,1.8,Iris-virginica\\n',\n",
              " '109,6.7,2.5,5.8,1.8,Iris-virginica\\n',\n",
              " '110,7.2,3.6,6.1,2.5,Iris-virginica\\n',\n",
              " '111,6.5,3.2,5.1,2.0,Iris-virginica\\n',\n",
              " '112,6.4,2.7,5.3,1.9,Iris-virginica\\n',\n",
              " '113,6.8,3.0,5.5,2.1,Iris-virginica\\n',\n",
              " '114,5.7,2.5,5.0,2.0,Iris-virginica\\n',\n",
              " '115,5.8,2.8,5.1,2.4,Iris-virginica\\n',\n",
              " '116,6.4,3.2,5.3,2.3,Iris-virginica\\n',\n",
              " '117,6.5,3.0,5.5,1.8,Iris-virginica\\n',\n",
              " '118,7.7,3.8,6.7,2.2,Iris-virginica\\n',\n",
              " '119,7.7,2.6,6.9,2.3,Iris-virginica\\n',\n",
              " '120,6.0,2.2,5.0,1.5,Iris-virginica\\n',\n",
              " '121,6.9,3.2,5.7,2.3,Iris-virginica\\n',\n",
              " '122,5.6,2.8,4.9,2.0,Iris-virginica\\n',\n",
              " '123,7.7,2.8,6.7,2.0,Iris-virginica\\n',\n",
              " '124,6.3,2.7,4.9,1.8,Iris-virginica\\n',\n",
              " '125,6.7,3.3,5.7,2.1,Iris-virginica\\n',\n",
              " '126,7.2,3.2,6.0,1.8,Iris-virginica\\n',\n",
              " '127,6.2,2.8,4.8,1.8,Iris-virginica\\n',\n",
              " '128,6.1,3.0,4.9,1.8,Iris-virginica\\n',\n",
              " '129,6.4,2.8,5.6,2.1,Iris-virginica\\n',\n",
              " '130,7.2,3.0,5.8,1.6,Iris-virginica\\n',\n",
              " '131,7.4,2.8,6.1,1.9,Iris-virginica\\n',\n",
              " '132,7.9,3.8,6.4,2.0,Iris-virginica\\n',\n",
              " '133,6.4,2.8,5.6,2.2,Iris-virginica\\n',\n",
              " '134,6.3,2.8,5.1,1.5,Iris-virginica\\n',\n",
              " '135,6.1,2.6,5.6,1.4,Iris-virginica\\n',\n",
              " '136,7.7,3.0,6.1,2.3,Iris-virginica\\n',\n",
              " '137,6.3,3.4,5.6,2.4,Iris-virginica\\n',\n",
              " '138,6.4,3.1,5.5,1.8,Iris-virginica\\n',\n",
              " '139,6.0,3.0,4.8,1.8,Iris-virginica\\n',\n",
              " '140,6.9,3.1,5.4,2.1,Iris-virginica\\n',\n",
              " '141,6.7,3.1,5.6,2.4,Iris-virginica\\n',\n",
              " '142,6.9,3.1,5.1,2.3,Iris-virginica\\n',\n",
              " '143,5.8,2.7,5.1,1.9,Iris-virginica\\n',\n",
              " '144,6.8,3.2,5.9,2.3,Iris-virginica\\n',\n",
              " '145,6.7,3.3,5.7,2.5,Iris-virginica\\n',\n",
              " '146,6.7,3.0,5.2,2.3,Iris-virginica\\n',\n",
              " '147,6.3,2.5,5.0,1.9,Iris-virginica\\n',\n",
              " '148,6.5,3.0,5.2,2.0,Iris-virginica\\n',\n",
              " '149,6.2,3.4,5.4,2.3,Iris-virginica\\n',\n",
              " '150,5.9,3.0,5.1,1.8,Iris-virginica\\n']"
            ]
          },
          "metadata": {},
          "execution_count": 72
        }
      ]
    },
    {
      "cell_type": "markdown",
      "metadata": {
        "id": "QkryWu5dOa76"
      },
      "source": [
        "# 4 Remoção de Novas Linhas\n",
        "\n",
        "Crie uma nova lista numa variável de nome `d1` onde cada elemento de `d1` corresponda à versão do mesmo elemento em `d0`, removendo o caractere de nova linha `\\n` que aparece ao final de cada item. Assegure-se de que cada elemento da lista `d1` seja uma string simples (dependendo como você fez o upload, pode acontecer dos elementos estarem codificados, então decodifique caso necessário)."
      ]
    },
    {
      "cell_type": "code",
      "metadata": {
        "id": "7Chnp2TNOxH8"
      },
      "source": [
        "# Seu código aqui\n",
        "d1 = []\n",
        "\n",
        "for linha in d0:\n",
        "  d1.append(linha[:-1])"
      ],
      "execution_count": null,
      "outputs": []
    },
    {
      "cell_type": "code",
      "metadata": {
        "id": "vDTFG50XP9Xt",
        "colab": {
          "base_uri": "https://localhost:8080/",
          "height": 46
        },
        "outputId": "ab5b299b-c7ce-418e-b271-72c88d927bc0"
      },
      "source": [
        "ok.check('e03_4.py')"
      ],
      "execution_count": null,
      "outputs": [
        {
          "output_type": "execute_result",
          "data": {
            "text/html": [
              "\n",
              "    \n",
              "    \n",
              "        <p>All tests passed!</p>\n",
              "    \n",
              "    "
            ],
            "text/plain": [
              "<gofer.ok.OKTestsResult at 0x7fd96fac1150>"
            ]
          },
          "metadata": {},
          "execution_count": 74
        }
      ]
    },
    {
      "cell_type": "code",
      "metadata": {
        "colab": {
          "base_uri": "https://localhost:8080/"
        },
        "id": "xnre2E5Hlp5X",
        "outputId": "c649396c-42c1-4781-b3a9-4431f820a7c0"
      },
      "source": [
        "d1"
      ],
      "execution_count": null,
      "outputs": [
        {
          "output_type": "execute_result",
          "data": {
            "text/plain": [
              "['1,5.1,3.5,1.4,0.2,Iris-setosa',\n",
              " '2,4.9,3.0,1.4,0.2,Iris-setosa',\n",
              " '3,4.7,3.2,1.3,0.2,Iris-setosa',\n",
              " '4,4.6,3.1,1.5,0.2,Iris-setosa',\n",
              " '5,5.0,3.6,1.4,0.2,Iris-setosa',\n",
              " '6,5.4,3.9,1.7,0.4,Iris-setosa',\n",
              " '7,4.6,3.4,1.4,0.3,Iris-setosa',\n",
              " '8,5.0,3.4,1.5,0.2,Iris-setosa',\n",
              " '9,4.4,2.9,1.4,0.2,Iris-setosa',\n",
              " '10,4.9,3.1,1.5,0.1,Iris-setosa',\n",
              " '11,5.4,3.7,1.5,0.2,Iris-setosa',\n",
              " '12,4.8,3.4,1.6,0.2,Iris-setosa',\n",
              " '13,4.8,3.0,1.4,0.1,Iris-setosa',\n",
              " '14,4.3,3.0,1.1,0.1,Iris-setosa',\n",
              " '15,5.8,4.0,1.2,0.2,Iris-setosa',\n",
              " '16,5.7,4.4,1.5,0.4,Iris-setosa',\n",
              " '17,5.4,3.9,1.3,0.4,Iris-setosa',\n",
              " '18,5.1,3.5,1.4,0.3,Iris-setosa',\n",
              " '19,5.7,3.8,1.7,0.3,Iris-setosa',\n",
              " '20,5.1,3.8,1.5,0.3,Iris-setosa',\n",
              " '21,5.4,3.4,1.7,0.2,Iris-setosa',\n",
              " '22,5.1,3.7,1.5,0.4,Iris-setosa',\n",
              " '23,4.6,3.6,1.0,0.2,Iris-setosa',\n",
              " '24,5.1,3.3,1.7,0.5,Iris-setosa',\n",
              " '25,4.8,3.4,1.9,0.2,Iris-setosa',\n",
              " '26,5.0,3.0,1.6,0.2,Iris-setosa',\n",
              " '27,5.0,3.4,1.6,0.4,Iris-setosa',\n",
              " '28,5.2,3.5,1.5,0.2,Iris-setosa',\n",
              " '29,5.2,3.4,1.4,0.2,Iris-setosa',\n",
              " '30,4.7,3.2,1.6,0.2,Iris-setosa',\n",
              " '31,4.8,3.1,1.6,0.2,Iris-setosa',\n",
              " '32,5.4,3.4,1.5,0.4,Iris-setosa',\n",
              " '33,5.2,4.1,1.5,0.1,Iris-setosa',\n",
              " '34,5.5,4.2,1.4,0.2,Iris-setosa',\n",
              " '35,4.9,3.1,1.5,0.1,Iris-setosa',\n",
              " '36,5.0,3.2,1.2,0.2,Iris-setosa',\n",
              " '37,5.5,3.5,1.3,0.2,Iris-setosa',\n",
              " '38,4.9,3.1,1.5,0.1,Iris-setosa',\n",
              " '39,4.4,3.0,1.3,0.2,Iris-setosa',\n",
              " '40,5.1,3.4,1.5,0.2,Iris-setosa',\n",
              " '41,5.0,3.5,1.3,0.3,Iris-setosa',\n",
              " '42,4.5,2.3,1.3,0.3,Iris-setosa',\n",
              " '43,4.4,3.2,1.3,0.2,Iris-setosa',\n",
              " '44,5.0,3.5,1.6,0.6,Iris-setosa',\n",
              " '45,5.1,3.8,1.9,0.4,Iris-setosa',\n",
              " '46,4.8,3.0,1.4,0.3,Iris-setosa',\n",
              " '47,5.1,3.8,1.6,0.2,Iris-setosa',\n",
              " '48,4.6,3.2,1.4,0.2,Iris-setosa',\n",
              " '49,5.3,3.7,1.5,0.2,Iris-setosa',\n",
              " '50,5.0,3.3,1.4,0.2,Iris-setosa',\n",
              " '51,7.0,3.2,4.7,1.4,Iris-versicolor',\n",
              " '52,6.4,3.2,4.5,1.5,Iris-versicolor',\n",
              " '53,6.9,3.1,4.9,1.5,Iris-versicolor',\n",
              " '54,5.5,2.3,4.0,1.3,Iris-versicolor',\n",
              " '55,6.5,2.8,4.6,1.5,Iris-versicolor',\n",
              " '56,5.7,2.8,4.5,1.3,Iris-versicolor',\n",
              " '57,6.3,3.3,4.7,1.6,Iris-versicolor',\n",
              " '58,4.9,2.4,3.3,1.0,Iris-versicolor',\n",
              " '59,6.6,2.9,4.6,1.3,Iris-versicolor',\n",
              " '60,5.2,2.7,3.9,1.4,Iris-versicolor',\n",
              " '61,5.0,2.0,3.5,1.0,Iris-versicolor',\n",
              " '62,5.9,3.0,4.2,1.5,Iris-versicolor',\n",
              " '63,6.0,2.2,4.0,1.0,Iris-versicolor',\n",
              " '64,6.1,2.9,4.7,1.4,Iris-versicolor',\n",
              " '65,5.6,2.9,3.6,1.3,Iris-versicolor',\n",
              " '66,6.7,3.1,4.4,1.4,Iris-versicolor',\n",
              " '67,5.6,3.0,4.5,1.5,Iris-versicolor',\n",
              " '68,5.8,2.7,4.1,1.0,Iris-versicolor',\n",
              " '69,6.2,2.2,4.5,1.5,Iris-versicolor',\n",
              " '70,5.6,2.5,3.9,1.1,Iris-versicolor',\n",
              " '71,5.9,3.2,4.8,1.8,Iris-versicolor',\n",
              " '72,6.1,2.8,4.0,1.3,Iris-versicolor',\n",
              " '73,6.3,2.5,4.9,1.5,Iris-versicolor',\n",
              " '74,6.1,2.8,4.7,1.2,Iris-versicolor',\n",
              " '75,6.4,2.9,4.3,1.3,Iris-versicolor',\n",
              " '76,6.6,3.0,4.4,1.4,Iris-versicolor',\n",
              " '77,6.8,2.8,4.8,1.4,Iris-versicolor',\n",
              " '78,6.7,3.0,5.0,1.7,Iris-versicolor',\n",
              " '79,6.0,2.9,4.5,1.5,Iris-versicolor',\n",
              " '80,5.7,2.6,3.5,1.0,Iris-versicolor',\n",
              " '81,5.5,2.4,3.8,1.1,Iris-versicolor',\n",
              " '82,5.5,2.4,3.7,1.0,Iris-versicolor',\n",
              " '83,5.8,2.7,3.9,1.2,Iris-versicolor',\n",
              " '84,6.0,2.7,5.1,1.6,Iris-versicolor',\n",
              " '85,5.4,3.0,4.5,1.5,Iris-versicolor',\n",
              " '86,6.0,3.4,4.5,1.6,Iris-versicolor',\n",
              " '87,6.7,3.1,4.7,1.5,Iris-versicolor',\n",
              " '88,6.3,2.3,4.4,1.3,Iris-versicolor',\n",
              " '89,5.6,3.0,4.1,1.3,Iris-versicolor',\n",
              " '90,5.5,2.5,4.0,1.3,Iris-versicolor',\n",
              " '91,5.5,2.6,4.4,1.2,Iris-versicolor',\n",
              " '92,6.1,3.0,4.6,1.4,Iris-versicolor',\n",
              " '93,5.8,2.6,4.0,1.2,Iris-versicolor',\n",
              " '94,5.0,2.3,3.3,1.0,Iris-versicolor',\n",
              " '95,5.6,2.7,4.2,1.3,Iris-versicolor',\n",
              " '96,5.7,3.0,4.2,1.2,Iris-versicolor',\n",
              " '97,5.7,2.9,4.2,1.3,Iris-versicolor',\n",
              " '98,6.2,2.9,4.3,1.3,Iris-versicolor',\n",
              " '99,5.1,2.5,3.0,1.1,Iris-versicolor',\n",
              " '100,5.7,2.8,4.1,1.3,Iris-versicolor',\n",
              " '101,6.3,3.3,6.0,2.5,Iris-virginica',\n",
              " '102,5.8,2.7,5.1,1.9,Iris-virginica',\n",
              " '103,7.1,3.0,5.9,2.1,Iris-virginica',\n",
              " '104,6.3,2.9,5.6,1.8,Iris-virginica',\n",
              " '105,6.5,3.0,5.8,2.2,Iris-virginica',\n",
              " '106,7.6,3.0,6.6,2.1,Iris-virginica',\n",
              " '107,4.9,2.5,4.5,1.7,Iris-virginica',\n",
              " '108,7.3,2.9,6.3,1.8,Iris-virginica',\n",
              " '109,6.7,2.5,5.8,1.8,Iris-virginica',\n",
              " '110,7.2,3.6,6.1,2.5,Iris-virginica',\n",
              " '111,6.5,3.2,5.1,2.0,Iris-virginica',\n",
              " '112,6.4,2.7,5.3,1.9,Iris-virginica',\n",
              " '113,6.8,3.0,5.5,2.1,Iris-virginica',\n",
              " '114,5.7,2.5,5.0,2.0,Iris-virginica',\n",
              " '115,5.8,2.8,5.1,2.4,Iris-virginica',\n",
              " '116,6.4,3.2,5.3,2.3,Iris-virginica',\n",
              " '117,6.5,3.0,5.5,1.8,Iris-virginica',\n",
              " '118,7.7,3.8,6.7,2.2,Iris-virginica',\n",
              " '119,7.7,2.6,6.9,2.3,Iris-virginica',\n",
              " '120,6.0,2.2,5.0,1.5,Iris-virginica',\n",
              " '121,6.9,3.2,5.7,2.3,Iris-virginica',\n",
              " '122,5.6,2.8,4.9,2.0,Iris-virginica',\n",
              " '123,7.7,2.8,6.7,2.0,Iris-virginica',\n",
              " '124,6.3,2.7,4.9,1.8,Iris-virginica',\n",
              " '125,6.7,3.3,5.7,2.1,Iris-virginica',\n",
              " '126,7.2,3.2,6.0,1.8,Iris-virginica',\n",
              " '127,6.2,2.8,4.8,1.8,Iris-virginica',\n",
              " '128,6.1,3.0,4.9,1.8,Iris-virginica',\n",
              " '129,6.4,2.8,5.6,2.1,Iris-virginica',\n",
              " '130,7.2,3.0,5.8,1.6,Iris-virginica',\n",
              " '131,7.4,2.8,6.1,1.9,Iris-virginica',\n",
              " '132,7.9,3.8,6.4,2.0,Iris-virginica',\n",
              " '133,6.4,2.8,5.6,2.2,Iris-virginica',\n",
              " '134,6.3,2.8,5.1,1.5,Iris-virginica',\n",
              " '135,6.1,2.6,5.6,1.4,Iris-virginica',\n",
              " '136,7.7,3.0,6.1,2.3,Iris-virginica',\n",
              " '137,6.3,3.4,5.6,2.4,Iris-virginica',\n",
              " '138,6.4,3.1,5.5,1.8,Iris-virginica',\n",
              " '139,6.0,3.0,4.8,1.8,Iris-virginica',\n",
              " '140,6.9,3.1,5.4,2.1,Iris-virginica',\n",
              " '141,6.7,3.1,5.6,2.4,Iris-virginica',\n",
              " '142,6.9,3.1,5.1,2.3,Iris-virginica',\n",
              " '143,5.8,2.7,5.1,1.9,Iris-virginica',\n",
              " '144,6.8,3.2,5.9,2.3,Iris-virginica',\n",
              " '145,6.7,3.3,5.7,2.5,Iris-virginica',\n",
              " '146,6.7,3.0,5.2,2.3,Iris-virginica',\n",
              " '147,6.3,2.5,5.0,1.9,Iris-virginica',\n",
              " '148,6.5,3.0,5.2,2.0,Iris-virginica',\n",
              " '149,6.2,3.4,5.4,2.3,Iris-virginica',\n",
              " '150,5.9,3.0,5.1,1.8,Iris-virginica']"
            ]
          },
          "metadata": {},
          "execution_count": 75
        }
      ]
    },
    {
      "cell_type": "markdown",
      "metadata": {
        "id": "xjcb4NF-Skxg"
      },
      "source": [
        "# 5 Separação por Vírgulas\n",
        "\n",
        "Crie uma nova lista em uma variável de nome `d2` onde cada elemento dessa lista seja uma sublista contendo as strings correspondentes a cada dado da string original, usando a vírgula como separador.\n",
        "\n",
        "Por exemplo, transforme isso:\n",
        "\n",
        "`'14,4.3,3.0,1.1,0.1,Iris-setosa'`\n",
        "\n",
        "nisso:\n",
        "\n",
        "`['14', '4.3', '3.0', '1.1', '0.1', 'Iris-setosa']`\n",
        "\n",
        "Faça isso para todos elementos, na mesma ordem da lista original, gravando o resultado em `d2`.\n"
      ]
    },
    {
      "cell_type": "code",
      "metadata": {
        "id": "s08w5UV6Tij9"
      },
      "source": [
        "# Seu código aqui\n",
        "d2 = []\n",
        "\n",
        "for linha in d1:\n",
        "  d2.append(linha.split(','))\n"
      ],
      "execution_count": null,
      "outputs": []
    },
    {
      "cell_type": "code",
      "metadata": {
        "id": "7S7f_WeTUN_g",
        "colab": {
          "base_uri": "https://localhost:8080/",
          "height": 46
        },
        "outputId": "f5587383-9443-44a8-edff-2963efe75d40"
      },
      "source": [
        "ok.check('e03_5.py')"
      ],
      "execution_count": null,
      "outputs": [
        {
          "output_type": "execute_result",
          "data": {
            "text/html": [
              "\n",
              "    \n",
              "    \n",
              "        <p>All tests passed!</p>\n",
              "    \n",
              "    "
            ],
            "text/plain": [
              "<gofer.ok.OKTestsResult at 0x7fd96fa92cd0>"
            ]
          },
          "metadata": {},
          "execution_count": 77
        }
      ]
    },
    {
      "cell_type": "code",
      "metadata": {
        "colab": {
          "base_uri": "https://localhost:8080/"
        },
        "id": "dLHTS-_QnG12",
        "outputId": "4f23a2bb-0ffa-498e-bfa7-6ef7506752e7"
      },
      "source": [
        "d2"
      ],
      "execution_count": null,
      "outputs": [
        {
          "output_type": "execute_result",
          "data": {
            "text/plain": [
              "[['1', '5.1', '3.5', '1.4', '0.2', 'Iris-setosa'],\n",
              " ['2', '4.9', '3.0', '1.4', '0.2', 'Iris-setosa'],\n",
              " ['3', '4.7', '3.2', '1.3', '0.2', 'Iris-setosa'],\n",
              " ['4', '4.6', '3.1', '1.5', '0.2', 'Iris-setosa'],\n",
              " ['5', '5.0', '3.6', '1.4', '0.2', 'Iris-setosa'],\n",
              " ['6', '5.4', '3.9', '1.7', '0.4', 'Iris-setosa'],\n",
              " ['7', '4.6', '3.4', '1.4', '0.3', 'Iris-setosa'],\n",
              " ['8', '5.0', '3.4', '1.5', '0.2', 'Iris-setosa'],\n",
              " ['9', '4.4', '2.9', '1.4', '0.2', 'Iris-setosa'],\n",
              " ['10', '4.9', '3.1', '1.5', '0.1', 'Iris-setosa'],\n",
              " ['11', '5.4', '3.7', '1.5', '0.2', 'Iris-setosa'],\n",
              " ['12', '4.8', '3.4', '1.6', '0.2', 'Iris-setosa'],\n",
              " ['13', '4.8', '3.0', '1.4', '0.1', 'Iris-setosa'],\n",
              " ['14', '4.3', '3.0', '1.1', '0.1', 'Iris-setosa'],\n",
              " ['15', '5.8', '4.0', '1.2', '0.2', 'Iris-setosa'],\n",
              " ['16', '5.7', '4.4', '1.5', '0.4', 'Iris-setosa'],\n",
              " ['17', '5.4', '3.9', '1.3', '0.4', 'Iris-setosa'],\n",
              " ['18', '5.1', '3.5', '1.4', '0.3', 'Iris-setosa'],\n",
              " ['19', '5.7', '3.8', '1.7', '0.3', 'Iris-setosa'],\n",
              " ['20', '5.1', '3.8', '1.5', '0.3', 'Iris-setosa'],\n",
              " ['21', '5.4', '3.4', '1.7', '0.2', 'Iris-setosa'],\n",
              " ['22', '5.1', '3.7', '1.5', '0.4', 'Iris-setosa'],\n",
              " ['23', '4.6', '3.6', '1.0', '0.2', 'Iris-setosa'],\n",
              " ['24', '5.1', '3.3', '1.7', '0.5', 'Iris-setosa'],\n",
              " ['25', '4.8', '3.4', '1.9', '0.2', 'Iris-setosa'],\n",
              " ['26', '5.0', '3.0', '1.6', '0.2', 'Iris-setosa'],\n",
              " ['27', '5.0', '3.4', '1.6', '0.4', 'Iris-setosa'],\n",
              " ['28', '5.2', '3.5', '1.5', '0.2', 'Iris-setosa'],\n",
              " ['29', '5.2', '3.4', '1.4', '0.2', 'Iris-setosa'],\n",
              " ['30', '4.7', '3.2', '1.6', '0.2', 'Iris-setosa'],\n",
              " ['31', '4.8', '3.1', '1.6', '0.2', 'Iris-setosa'],\n",
              " ['32', '5.4', '3.4', '1.5', '0.4', 'Iris-setosa'],\n",
              " ['33', '5.2', '4.1', '1.5', '0.1', 'Iris-setosa'],\n",
              " ['34', '5.5', '4.2', '1.4', '0.2', 'Iris-setosa'],\n",
              " ['35', '4.9', '3.1', '1.5', '0.1', 'Iris-setosa'],\n",
              " ['36', '5.0', '3.2', '1.2', '0.2', 'Iris-setosa'],\n",
              " ['37', '5.5', '3.5', '1.3', '0.2', 'Iris-setosa'],\n",
              " ['38', '4.9', '3.1', '1.5', '0.1', 'Iris-setosa'],\n",
              " ['39', '4.4', '3.0', '1.3', '0.2', 'Iris-setosa'],\n",
              " ['40', '5.1', '3.4', '1.5', '0.2', 'Iris-setosa'],\n",
              " ['41', '5.0', '3.5', '1.3', '0.3', 'Iris-setosa'],\n",
              " ['42', '4.5', '2.3', '1.3', '0.3', 'Iris-setosa'],\n",
              " ['43', '4.4', '3.2', '1.3', '0.2', 'Iris-setosa'],\n",
              " ['44', '5.0', '3.5', '1.6', '0.6', 'Iris-setosa'],\n",
              " ['45', '5.1', '3.8', '1.9', '0.4', 'Iris-setosa'],\n",
              " ['46', '4.8', '3.0', '1.4', '0.3', 'Iris-setosa'],\n",
              " ['47', '5.1', '3.8', '1.6', '0.2', 'Iris-setosa'],\n",
              " ['48', '4.6', '3.2', '1.4', '0.2', 'Iris-setosa'],\n",
              " ['49', '5.3', '3.7', '1.5', '0.2', 'Iris-setosa'],\n",
              " ['50', '5.0', '3.3', '1.4', '0.2', 'Iris-setosa'],\n",
              " ['51', '7.0', '3.2', '4.7', '1.4', 'Iris-versicolor'],\n",
              " ['52', '6.4', '3.2', '4.5', '1.5', 'Iris-versicolor'],\n",
              " ['53', '6.9', '3.1', '4.9', '1.5', 'Iris-versicolor'],\n",
              " ['54', '5.5', '2.3', '4.0', '1.3', 'Iris-versicolor'],\n",
              " ['55', '6.5', '2.8', '4.6', '1.5', 'Iris-versicolor'],\n",
              " ['56', '5.7', '2.8', '4.5', '1.3', 'Iris-versicolor'],\n",
              " ['57', '6.3', '3.3', '4.7', '1.6', 'Iris-versicolor'],\n",
              " ['58', '4.9', '2.4', '3.3', '1.0', 'Iris-versicolor'],\n",
              " ['59', '6.6', '2.9', '4.6', '1.3', 'Iris-versicolor'],\n",
              " ['60', '5.2', '2.7', '3.9', '1.4', 'Iris-versicolor'],\n",
              " ['61', '5.0', '2.0', '3.5', '1.0', 'Iris-versicolor'],\n",
              " ['62', '5.9', '3.0', '4.2', '1.5', 'Iris-versicolor'],\n",
              " ['63', '6.0', '2.2', '4.0', '1.0', 'Iris-versicolor'],\n",
              " ['64', '6.1', '2.9', '4.7', '1.4', 'Iris-versicolor'],\n",
              " ['65', '5.6', '2.9', '3.6', '1.3', 'Iris-versicolor'],\n",
              " ['66', '6.7', '3.1', '4.4', '1.4', 'Iris-versicolor'],\n",
              " ['67', '5.6', '3.0', '4.5', '1.5', 'Iris-versicolor'],\n",
              " ['68', '5.8', '2.7', '4.1', '1.0', 'Iris-versicolor'],\n",
              " ['69', '6.2', '2.2', '4.5', '1.5', 'Iris-versicolor'],\n",
              " ['70', '5.6', '2.5', '3.9', '1.1', 'Iris-versicolor'],\n",
              " ['71', '5.9', '3.2', '4.8', '1.8', 'Iris-versicolor'],\n",
              " ['72', '6.1', '2.8', '4.0', '1.3', 'Iris-versicolor'],\n",
              " ['73', '6.3', '2.5', '4.9', '1.5', 'Iris-versicolor'],\n",
              " ['74', '6.1', '2.8', '4.7', '1.2', 'Iris-versicolor'],\n",
              " ['75', '6.4', '2.9', '4.3', '1.3', 'Iris-versicolor'],\n",
              " ['76', '6.6', '3.0', '4.4', '1.4', 'Iris-versicolor'],\n",
              " ['77', '6.8', '2.8', '4.8', '1.4', 'Iris-versicolor'],\n",
              " ['78', '6.7', '3.0', '5.0', '1.7', 'Iris-versicolor'],\n",
              " ['79', '6.0', '2.9', '4.5', '1.5', 'Iris-versicolor'],\n",
              " ['80', '5.7', '2.6', '3.5', '1.0', 'Iris-versicolor'],\n",
              " ['81', '5.5', '2.4', '3.8', '1.1', 'Iris-versicolor'],\n",
              " ['82', '5.5', '2.4', '3.7', '1.0', 'Iris-versicolor'],\n",
              " ['83', '5.8', '2.7', '3.9', '1.2', 'Iris-versicolor'],\n",
              " ['84', '6.0', '2.7', '5.1', '1.6', 'Iris-versicolor'],\n",
              " ['85', '5.4', '3.0', '4.5', '1.5', 'Iris-versicolor'],\n",
              " ['86', '6.0', '3.4', '4.5', '1.6', 'Iris-versicolor'],\n",
              " ['87', '6.7', '3.1', '4.7', '1.5', 'Iris-versicolor'],\n",
              " ['88', '6.3', '2.3', '4.4', '1.3', 'Iris-versicolor'],\n",
              " ['89', '5.6', '3.0', '4.1', '1.3', 'Iris-versicolor'],\n",
              " ['90', '5.5', '2.5', '4.0', '1.3', 'Iris-versicolor'],\n",
              " ['91', '5.5', '2.6', '4.4', '1.2', 'Iris-versicolor'],\n",
              " ['92', '6.1', '3.0', '4.6', '1.4', 'Iris-versicolor'],\n",
              " ['93', '5.8', '2.6', '4.0', '1.2', 'Iris-versicolor'],\n",
              " ['94', '5.0', '2.3', '3.3', '1.0', 'Iris-versicolor'],\n",
              " ['95', '5.6', '2.7', '4.2', '1.3', 'Iris-versicolor'],\n",
              " ['96', '5.7', '3.0', '4.2', '1.2', 'Iris-versicolor'],\n",
              " ['97', '5.7', '2.9', '4.2', '1.3', 'Iris-versicolor'],\n",
              " ['98', '6.2', '2.9', '4.3', '1.3', 'Iris-versicolor'],\n",
              " ['99', '5.1', '2.5', '3.0', '1.1', 'Iris-versicolor'],\n",
              " ['100', '5.7', '2.8', '4.1', '1.3', 'Iris-versicolor'],\n",
              " ['101', '6.3', '3.3', '6.0', '2.5', 'Iris-virginica'],\n",
              " ['102', '5.8', '2.7', '5.1', '1.9', 'Iris-virginica'],\n",
              " ['103', '7.1', '3.0', '5.9', '2.1', 'Iris-virginica'],\n",
              " ['104', '6.3', '2.9', '5.6', '1.8', 'Iris-virginica'],\n",
              " ['105', '6.5', '3.0', '5.8', '2.2', 'Iris-virginica'],\n",
              " ['106', '7.6', '3.0', '6.6', '2.1', 'Iris-virginica'],\n",
              " ['107', '4.9', '2.5', '4.5', '1.7', 'Iris-virginica'],\n",
              " ['108', '7.3', '2.9', '6.3', '1.8', 'Iris-virginica'],\n",
              " ['109', '6.7', '2.5', '5.8', '1.8', 'Iris-virginica'],\n",
              " ['110', '7.2', '3.6', '6.1', '2.5', 'Iris-virginica'],\n",
              " ['111', '6.5', '3.2', '5.1', '2.0', 'Iris-virginica'],\n",
              " ['112', '6.4', '2.7', '5.3', '1.9', 'Iris-virginica'],\n",
              " ['113', '6.8', '3.0', '5.5', '2.1', 'Iris-virginica'],\n",
              " ['114', '5.7', '2.5', '5.0', '2.0', 'Iris-virginica'],\n",
              " ['115', '5.8', '2.8', '5.1', '2.4', 'Iris-virginica'],\n",
              " ['116', '6.4', '3.2', '5.3', '2.3', 'Iris-virginica'],\n",
              " ['117', '6.5', '3.0', '5.5', '1.8', 'Iris-virginica'],\n",
              " ['118', '7.7', '3.8', '6.7', '2.2', 'Iris-virginica'],\n",
              " ['119', '7.7', '2.6', '6.9', '2.3', 'Iris-virginica'],\n",
              " ['120', '6.0', '2.2', '5.0', '1.5', 'Iris-virginica'],\n",
              " ['121', '6.9', '3.2', '5.7', '2.3', 'Iris-virginica'],\n",
              " ['122', '5.6', '2.8', '4.9', '2.0', 'Iris-virginica'],\n",
              " ['123', '7.7', '2.8', '6.7', '2.0', 'Iris-virginica'],\n",
              " ['124', '6.3', '2.7', '4.9', '1.8', 'Iris-virginica'],\n",
              " ['125', '6.7', '3.3', '5.7', '2.1', 'Iris-virginica'],\n",
              " ['126', '7.2', '3.2', '6.0', '1.8', 'Iris-virginica'],\n",
              " ['127', '6.2', '2.8', '4.8', '1.8', 'Iris-virginica'],\n",
              " ['128', '6.1', '3.0', '4.9', '1.8', 'Iris-virginica'],\n",
              " ['129', '6.4', '2.8', '5.6', '2.1', 'Iris-virginica'],\n",
              " ['130', '7.2', '3.0', '5.8', '1.6', 'Iris-virginica'],\n",
              " ['131', '7.4', '2.8', '6.1', '1.9', 'Iris-virginica'],\n",
              " ['132', '7.9', '3.8', '6.4', '2.0', 'Iris-virginica'],\n",
              " ['133', '6.4', '2.8', '5.6', '2.2', 'Iris-virginica'],\n",
              " ['134', '6.3', '2.8', '5.1', '1.5', 'Iris-virginica'],\n",
              " ['135', '6.1', '2.6', '5.6', '1.4', 'Iris-virginica'],\n",
              " ['136', '7.7', '3.0', '6.1', '2.3', 'Iris-virginica'],\n",
              " ['137', '6.3', '3.4', '5.6', '2.4', 'Iris-virginica'],\n",
              " ['138', '6.4', '3.1', '5.5', '1.8', 'Iris-virginica'],\n",
              " ['139', '6.0', '3.0', '4.8', '1.8', 'Iris-virginica'],\n",
              " ['140', '6.9', '3.1', '5.4', '2.1', 'Iris-virginica'],\n",
              " ['141', '6.7', '3.1', '5.6', '2.4', 'Iris-virginica'],\n",
              " ['142', '6.9', '3.1', '5.1', '2.3', 'Iris-virginica'],\n",
              " ['143', '5.8', '2.7', '5.1', '1.9', 'Iris-virginica'],\n",
              " ['144', '6.8', '3.2', '5.9', '2.3', 'Iris-virginica'],\n",
              " ['145', '6.7', '3.3', '5.7', '2.5', 'Iris-virginica'],\n",
              " ['146', '6.7', '3.0', '5.2', '2.3', 'Iris-virginica'],\n",
              " ['147', '6.3', '2.5', '5.0', '1.9', 'Iris-virginica'],\n",
              " ['148', '6.5', '3.0', '5.2', '2.0', 'Iris-virginica'],\n",
              " ['149', '6.2', '3.4', '5.4', '2.3', 'Iris-virginica'],\n",
              " ['150', '5.9', '3.0', '5.1', '1.8', 'Iris-virginica']]"
            ]
          },
          "metadata": {},
          "execution_count": 78
        }
      ]
    },
    {
      "cell_type": "markdown",
      "metadata": {
        "id": "bczh-ZCWVNyX"
      },
      "source": [
        "# 6 Entradas de Treinamento\n",
        "\n",
        "Crie uma matriz no formato `array` do NumPy, numa variável de nome `d3`, contendo todos os dados da segunda, terceira, quarta e quinta colunas de `d2` transformados para o formato ponto flutuante (convertendo de string para número). Não inclua nem a primeira coluna (que é o id), nem a última coluna nessa conversão. Essa será a matriz de entradas."
      ]
    },
    {
      "cell_type": "code",
      "metadata": {
        "id": "UGm6Nu3BoC5w"
      },
      "source": [
        "import numpy as np"
      ],
      "execution_count": null,
      "outputs": []
    },
    {
      "cell_type": "code",
      "metadata": {
        "id": "18CrGLTJVMlG"
      },
      "source": [
        "# Escreva seu código aqui\n",
        "d3 = np.zeros((total, 4))\n",
        "\n",
        "for i, linha in enumerate(d2[0:]):\n",
        "  _, sl, sw, pl, pw, sp = linha\n",
        "  sl = float(sl)\n",
        "  sw = float(sw)\n",
        "  pl = float(pl)\n",
        "  pw = float(pw)\n",
        "  d3[i:] = np.array([sl, sw, pl, pw])\n"
      ],
      "execution_count": null,
      "outputs": []
    },
    {
      "cell_type": "code",
      "metadata": {
        "id": "SZDaonjRW_Yk",
        "colab": {
          "base_uri": "https://localhost:8080/",
          "height": 46
        },
        "outputId": "39a60328-a752-4f47-bb43-f36c07bea68e"
      },
      "source": [
        "ok.check('e03_6.py')"
      ],
      "execution_count": null,
      "outputs": [
        {
          "output_type": "execute_result",
          "data": {
            "text/html": [
              "\n",
              "    \n",
              "    \n",
              "        <p>All tests passed!</p>\n",
              "    \n",
              "    "
            ],
            "text/plain": [
              "<gofer.ok.OKTestsResult at 0x7fd96faeef90>"
            ]
          },
          "metadata": {},
          "execution_count": 82
        }
      ]
    },
    {
      "cell_type": "code",
      "metadata": {
        "colab": {
          "base_uri": "https://localhost:8080/"
        },
        "id": "LR-bBW1oqRQ6",
        "outputId": "d32038c6-8b79-4866-e447-e7884e4d6d50"
      },
      "source": [
        "d3"
      ],
      "execution_count": null,
      "outputs": [
        {
          "output_type": "execute_result",
          "data": {
            "text/plain": [
              "array([[5.1, 3.5, 1.4, 0.2],\n",
              "       [4.9, 3. , 1.4, 0.2],\n",
              "       [4.7, 3.2, 1.3, 0.2],\n",
              "       [4.6, 3.1, 1.5, 0.2],\n",
              "       [5. , 3.6, 1.4, 0.2],\n",
              "       [5.4, 3.9, 1.7, 0.4],\n",
              "       [4.6, 3.4, 1.4, 0.3],\n",
              "       [5. , 3.4, 1.5, 0.2],\n",
              "       [4.4, 2.9, 1.4, 0.2],\n",
              "       [4.9, 3.1, 1.5, 0.1],\n",
              "       [5.4, 3.7, 1.5, 0.2],\n",
              "       [4.8, 3.4, 1.6, 0.2],\n",
              "       [4.8, 3. , 1.4, 0.1],\n",
              "       [4.3, 3. , 1.1, 0.1],\n",
              "       [5.8, 4. , 1.2, 0.2],\n",
              "       [5.7, 4.4, 1.5, 0.4],\n",
              "       [5.4, 3.9, 1.3, 0.4],\n",
              "       [5.1, 3.5, 1.4, 0.3],\n",
              "       [5.7, 3.8, 1.7, 0.3],\n",
              "       [5.1, 3.8, 1.5, 0.3],\n",
              "       [5.4, 3.4, 1.7, 0.2],\n",
              "       [5.1, 3.7, 1.5, 0.4],\n",
              "       [4.6, 3.6, 1. , 0.2],\n",
              "       [5.1, 3.3, 1.7, 0.5],\n",
              "       [4.8, 3.4, 1.9, 0.2],\n",
              "       [5. , 3. , 1.6, 0.2],\n",
              "       [5. , 3.4, 1.6, 0.4],\n",
              "       [5.2, 3.5, 1.5, 0.2],\n",
              "       [5.2, 3.4, 1.4, 0.2],\n",
              "       [4.7, 3.2, 1.6, 0.2],\n",
              "       [4.8, 3.1, 1.6, 0.2],\n",
              "       [5.4, 3.4, 1.5, 0.4],\n",
              "       [5.2, 4.1, 1.5, 0.1],\n",
              "       [5.5, 4.2, 1.4, 0.2],\n",
              "       [4.9, 3.1, 1.5, 0.1],\n",
              "       [5. , 3.2, 1.2, 0.2],\n",
              "       [5.5, 3.5, 1.3, 0.2],\n",
              "       [4.9, 3.1, 1.5, 0.1],\n",
              "       [4.4, 3. , 1.3, 0.2],\n",
              "       [5.1, 3.4, 1.5, 0.2],\n",
              "       [5. , 3.5, 1.3, 0.3],\n",
              "       [4.5, 2.3, 1.3, 0.3],\n",
              "       [4.4, 3.2, 1.3, 0.2],\n",
              "       [5. , 3.5, 1.6, 0.6],\n",
              "       [5.1, 3.8, 1.9, 0.4],\n",
              "       [4.8, 3. , 1.4, 0.3],\n",
              "       [5.1, 3.8, 1.6, 0.2],\n",
              "       [4.6, 3.2, 1.4, 0.2],\n",
              "       [5.3, 3.7, 1.5, 0.2],\n",
              "       [5. , 3.3, 1.4, 0.2],\n",
              "       [7. , 3.2, 4.7, 1.4],\n",
              "       [6.4, 3.2, 4.5, 1.5],\n",
              "       [6.9, 3.1, 4.9, 1.5],\n",
              "       [5.5, 2.3, 4. , 1.3],\n",
              "       [6.5, 2.8, 4.6, 1.5],\n",
              "       [5.7, 2.8, 4.5, 1.3],\n",
              "       [6.3, 3.3, 4.7, 1.6],\n",
              "       [4.9, 2.4, 3.3, 1. ],\n",
              "       [6.6, 2.9, 4.6, 1.3],\n",
              "       [5.2, 2.7, 3.9, 1.4],\n",
              "       [5. , 2. , 3.5, 1. ],\n",
              "       [5.9, 3. , 4.2, 1.5],\n",
              "       [6. , 2.2, 4. , 1. ],\n",
              "       [6.1, 2.9, 4.7, 1.4],\n",
              "       [5.6, 2.9, 3.6, 1.3],\n",
              "       [6.7, 3.1, 4.4, 1.4],\n",
              "       [5.6, 3. , 4.5, 1.5],\n",
              "       [5.8, 2.7, 4.1, 1. ],\n",
              "       [6.2, 2.2, 4.5, 1.5],\n",
              "       [5.6, 2.5, 3.9, 1.1],\n",
              "       [5.9, 3.2, 4.8, 1.8],\n",
              "       [6.1, 2.8, 4. , 1.3],\n",
              "       [6.3, 2.5, 4.9, 1.5],\n",
              "       [6.1, 2.8, 4.7, 1.2],\n",
              "       [6.4, 2.9, 4.3, 1.3],\n",
              "       [6.6, 3. , 4.4, 1.4],\n",
              "       [6.8, 2.8, 4.8, 1.4],\n",
              "       [6.7, 3. , 5. , 1.7],\n",
              "       [6. , 2.9, 4.5, 1.5],\n",
              "       [5.7, 2.6, 3.5, 1. ],\n",
              "       [5.5, 2.4, 3.8, 1.1],\n",
              "       [5.5, 2.4, 3.7, 1. ],\n",
              "       [5.8, 2.7, 3.9, 1.2],\n",
              "       [6. , 2.7, 5.1, 1.6],\n",
              "       [5.4, 3. , 4.5, 1.5],\n",
              "       [6. , 3.4, 4.5, 1.6],\n",
              "       [6.7, 3.1, 4.7, 1.5],\n",
              "       [6.3, 2.3, 4.4, 1.3],\n",
              "       [5.6, 3. , 4.1, 1.3],\n",
              "       [5.5, 2.5, 4. , 1.3],\n",
              "       [5.5, 2.6, 4.4, 1.2],\n",
              "       [6.1, 3. , 4.6, 1.4],\n",
              "       [5.8, 2.6, 4. , 1.2],\n",
              "       [5. , 2.3, 3.3, 1. ],\n",
              "       [5.6, 2.7, 4.2, 1.3],\n",
              "       [5.7, 3. , 4.2, 1.2],\n",
              "       [5.7, 2.9, 4.2, 1.3],\n",
              "       [6.2, 2.9, 4.3, 1.3],\n",
              "       [5.1, 2.5, 3. , 1.1],\n",
              "       [5.7, 2.8, 4.1, 1.3],\n",
              "       [6.3, 3.3, 6. , 2.5],\n",
              "       [5.8, 2.7, 5.1, 1.9],\n",
              "       [7.1, 3. , 5.9, 2.1],\n",
              "       [6.3, 2.9, 5.6, 1.8],\n",
              "       [6.5, 3. , 5.8, 2.2],\n",
              "       [7.6, 3. , 6.6, 2.1],\n",
              "       [4.9, 2.5, 4.5, 1.7],\n",
              "       [7.3, 2.9, 6.3, 1.8],\n",
              "       [6.7, 2.5, 5.8, 1.8],\n",
              "       [7.2, 3.6, 6.1, 2.5],\n",
              "       [6.5, 3.2, 5.1, 2. ],\n",
              "       [6.4, 2.7, 5.3, 1.9],\n",
              "       [6.8, 3. , 5.5, 2.1],\n",
              "       [5.7, 2.5, 5. , 2. ],\n",
              "       [5.8, 2.8, 5.1, 2.4],\n",
              "       [6.4, 3.2, 5.3, 2.3],\n",
              "       [6.5, 3. , 5.5, 1.8],\n",
              "       [7.7, 3.8, 6.7, 2.2],\n",
              "       [7.7, 2.6, 6.9, 2.3],\n",
              "       [6. , 2.2, 5. , 1.5],\n",
              "       [6.9, 3.2, 5.7, 2.3],\n",
              "       [5.6, 2.8, 4.9, 2. ],\n",
              "       [7.7, 2.8, 6.7, 2. ],\n",
              "       [6.3, 2.7, 4.9, 1.8],\n",
              "       [6.7, 3.3, 5.7, 2.1],\n",
              "       [7.2, 3.2, 6. , 1.8],\n",
              "       [6.2, 2.8, 4.8, 1.8],\n",
              "       [6.1, 3. , 4.9, 1.8],\n",
              "       [6.4, 2.8, 5.6, 2.1],\n",
              "       [7.2, 3. , 5.8, 1.6],\n",
              "       [7.4, 2.8, 6.1, 1.9],\n",
              "       [7.9, 3.8, 6.4, 2. ],\n",
              "       [6.4, 2.8, 5.6, 2.2],\n",
              "       [6.3, 2.8, 5.1, 1.5],\n",
              "       [6.1, 2.6, 5.6, 1.4],\n",
              "       [7.7, 3. , 6.1, 2.3],\n",
              "       [6.3, 3.4, 5.6, 2.4],\n",
              "       [6.4, 3.1, 5.5, 1.8],\n",
              "       [6. , 3. , 4.8, 1.8],\n",
              "       [6.9, 3.1, 5.4, 2.1],\n",
              "       [6.7, 3.1, 5.6, 2.4],\n",
              "       [6.9, 3.1, 5.1, 2.3],\n",
              "       [5.8, 2.7, 5.1, 1.9],\n",
              "       [6.8, 3.2, 5.9, 2.3],\n",
              "       [6.7, 3.3, 5.7, 2.5],\n",
              "       [6.7, 3. , 5.2, 2.3],\n",
              "       [6.3, 2.5, 5. , 1.9],\n",
              "       [6.5, 3. , 5.2, 2. ],\n",
              "       [6.2, 3.4, 5.4, 2.3],\n",
              "       [5.9, 3. , 5.1, 1.8]])"
            ]
          },
          "metadata": {},
          "execution_count": 83
        }
      ]
    },
    {
      "cell_type": "markdown",
      "metadata": {
        "id": "4RPaGiqvX2R7"
      },
      "source": [
        "# 7 Saídas Desejadas\n",
        "\n",
        "Crie um `array` do NumPy para as saídas desejadas, no formado _one-hot_. Para isso utilize as strings da última coluna de `d2`, verificando qual espécie de planta se refere cada string:\n",
        "\n",
        " `'Iris-setosa'` $\\rightarrow$ `[1.0, 0.0, 0.0]`\n",
        " \n",
        " `'Iris-versicolor'` $\\rightarrow$ `[0.0, 1.0, 0.0]`\n",
        "\n",
        " `'Iris-virginica'` $\\rightarrow$ `[0.0, 0.0, 1.0]`\n",
        "\n",
        " Grave o resultado em um `array` do NumPy de nome `d4`, com o mesmo número de linhas de `d3`, onde cada linha de `d4` corresponde ao vetor _one-hot_ da saída desejada da respectiva linha de entradas de `d4`."
      ]
    },
    {
      "cell_type": "code",
      "metadata": {
        "id": "BOUZLeZaY2cr"
      },
      "source": [
        "# Escreva seu código aqui\n",
        "d4 = np.zeros((total, 3))\n",
        "\n",
        "for i, linha in enumerate(d2[0:]):\n",
        "  _, sl, sw, pl, pw, sp = linha\n",
        "  \n",
        "  if sp == 'Iris-setosa':\n",
        "    d4[i,:] = np.array([1, 0, 0])\n",
        "  \n",
        "  elif sp == 'Iris-versicolor':\n",
        "    d4[i, :] = np.array([0, 1, 0])\n",
        "  \n",
        "  elif sp == 'Iris-virginica':\n",
        "    d4[i, :] = np.array([0, 0, 1])"
      ],
      "execution_count": null,
      "outputs": []
    },
    {
      "cell_type": "code",
      "metadata": {
        "id": "jwvATLI4cKue",
        "colab": {
          "base_uri": "https://localhost:8080/",
          "height": 46
        },
        "outputId": "35e72537-5789-415b-b1ba-7a55065ae069"
      },
      "source": [
        "ok.check('e03_7.py')"
      ],
      "execution_count": null,
      "outputs": [
        {
          "output_type": "execute_result",
          "data": {
            "text/html": [
              "\n",
              "    \n",
              "    \n",
              "        <p>All tests passed!</p>\n",
              "    \n",
              "    "
            ],
            "text/plain": [
              "<gofer.ok.OKTestsResult at 0x7fd96fb3f850>"
            ]
          },
          "metadata": {},
          "execution_count": 85
        }
      ]
    },
    {
      "cell_type": "code",
      "metadata": {
        "colab": {
          "base_uri": "https://localhost:8080/"
        },
        "id": "2nfm2fBJurq9",
        "outputId": "e8fd106c-827c-4478-f339-22967585f7e6"
      },
      "source": [
        "d4"
      ],
      "execution_count": null,
      "outputs": [
        {
          "output_type": "execute_result",
          "data": {
            "text/plain": [
              "array([[1., 0., 0.],\n",
              "       [1., 0., 0.],\n",
              "       [1., 0., 0.],\n",
              "       [1., 0., 0.],\n",
              "       [1., 0., 0.],\n",
              "       [1., 0., 0.],\n",
              "       [1., 0., 0.],\n",
              "       [1., 0., 0.],\n",
              "       [1., 0., 0.],\n",
              "       [1., 0., 0.],\n",
              "       [1., 0., 0.],\n",
              "       [1., 0., 0.],\n",
              "       [1., 0., 0.],\n",
              "       [1., 0., 0.],\n",
              "       [1., 0., 0.],\n",
              "       [1., 0., 0.],\n",
              "       [1., 0., 0.],\n",
              "       [1., 0., 0.],\n",
              "       [1., 0., 0.],\n",
              "       [1., 0., 0.],\n",
              "       [1., 0., 0.],\n",
              "       [1., 0., 0.],\n",
              "       [1., 0., 0.],\n",
              "       [1., 0., 0.],\n",
              "       [1., 0., 0.],\n",
              "       [1., 0., 0.],\n",
              "       [1., 0., 0.],\n",
              "       [1., 0., 0.],\n",
              "       [1., 0., 0.],\n",
              "       [1., 0., 0.],\n",
              "       [1., 0., 0.],\n",
              "       [1., 0., 0.],\n",
              "       [1., 0., 0.],\n",
              "       [1., 0., 0.],\n",
              "       [1., 0., 0.],\n",
              "       [1., 0., 0.],\n",
              "       [1., 0., 0.],\n",
              "       [1., 0., 0.],\n",
              "       [1., 0., 0.],\n",
              "       [1., 0., 0.],\n",
              "       [1., 0., 0.],\n",
              "       [1., 0., 0.],\n",
              "       [1., 0., 0.],\n",
              "       [1., 0., 0.],\n",
              "       [1., 0., 0.],\n",
              "       [1., 0., 0.],\n",
              "       [1., 0., 0.],\n",
              "       [1., 0., 0.],\n",
              "       [1., 0., 0.],\n",
              "       [1., 0., 0.],\n",
              "       [0., 1., 0.],\n",
              "       [0., 1., 0.],\n",
              "       [0., 1., 0.],\n",
              "       [0., 1., 0.],\n",
              "       [0., 1., 0.],\n",
              "       [0., 1., 0.],\n",
              "       [0., 1., 0.],\n",
              "       [0., 1., 0.],\n",
              "       [0., 1., 0.],\n",
              "       [0., 1., 0.],\n",
              "       [0., 1., 0.],\n",
              "       [0., 1., 0.],\n",
              "       [0., 1., 0.],\n",
              "       [0., 1., 0.],\n",
              "       [0., 1., 0.],\n",
              "       [0., 1., 0.],\n",
              "       [0., 1., 0.],\n",
              "       [0., 1., 0.],\n",
              "       [0., 1., 0.],\n",
              "       [0., 1., 0.],\n",
              "       [0., 1., 0.],\n",
              "       [0., 1., 0.],\n",
              "       [0., 1., 0.],\n",
              "       [0., 1., 0.],\n",
              "       [0., 1., 0.],\n",
              "       [0., 1., 0.],\n",
              "       [0., 1., 0.],\n",
              "       [0., 1., 0.],\n",
              "       [0., 1., 0.],\n",
              "       [0., 1., 0.],\n",
              "       [0., 1., 0.],\n",
              "       [0., 1., 0.],\n",
              "       [0., 1., 0.],\n",
              "       [0., 1., 0.],\n",
              "       [0., 1., 0.],\n",
              "       [0., 1., 0.],\n",
              "       [0., 1., 0.],\n",
              "       [0., 1., 0.],\n",
              "       [0., 1., 0.],\n",
              "       [0., 1., 0.],\n",
              "       [0., 1., 0.],\n",
              "       [0., 1., 0.],\n",
              "       [0., 1., 0.],\n",
              "       [0., 1., 0.],\n",
              "       [0., 1., 0.],\n",
              "       [0., 1., 0.],\n",
              "       [0., 1., 0.],\n",
              "       [0., 1., 0.],\n",
              "       [0., 1., 0.],\n",
              "       [0., 1., 0.],\n",
              "       [0., 0., 1.],\n",
              "       [0., 0., 1.],\n",
              "       [0., 0., 1.],\n",
              "       [0., 0., 1.],\n",
              "       [0., 0., 1.],\n",
              "       [0., 0., 1.],\n",
              "       [0., 0., 1.],\n",
              "       [0., 0., 1.],\n",
              "       [0., 0., 1.],\n",
              "       [0., 0., 1.],\n",
              "       [0., 0., 1.],\n",
              "       [0., 0., 1.],\n",
              "       [0., 0., 1.],\n",
              "       [0., 0., 1.],\n",
              "       [0., 0., 1.],\n",
              "       [0., 0., 1.],\n",
              "       [0., 0., 1.],\n",
              "       [0., 0., 1.],\n",
              "       [0., 0., 1.],\n",
              "       [0., 0., 1.],\n",
              "       [0., 0., 1.],\n",
              "       [0., 0., 1.],\n",
              "       [0., 0., 1.],\n",
              "       [0., 0., 1.],\n",
              "       [0., 0., 1.],\n",
              "       [0., 0., 1.],\n",
              "       [0., 0., 1.],\n",
              "       [0., 0., 1.],\n",
              "       [0., 0., 1.],\n",
              "       [0., 0., 1.],\n",
              "       [0., 0., 1.],\n",
              "       [0., 0., 1.],\n",
              "       [0., 0., 1.],\n",
              "       [0., 0., 1.],\n",
              "       [0., 0., 1.],\n",
              "       [0., 0., 1.],\n",
              "       [0., 0., 1.],\n",
              "       [0., 0., 1.],\n",
              "       [0., 0., 1.],\n",
              "       [0., 0., 1.],\n",
              "       [0., 0., 1.],\n",
              "       [0., 0., 1.],\n",
              "       [0., 0., 1.],\n",
              "       [0., 0., 1.],\n",
              "       [0., 0., 1.],\n",
              "       [0., 0., 1.],\n",
              "       [0., 0., 1.],\n",
              "       [0., 0., 1.],\n",
              "       [0., 0., 1.],\n",
              "       [0., 0., 1.]])"
            ]
          },
          "metadata": {},
          "execution_count": 86
        }
      ]
    },
    {
      "cell_type": "code",
      "metadata": {
        "id": "JZO_xovpvUCK"
      },
      "source": [
        "#outra maneira\n",
        "# cat = np.array(['Iris-setosa', 'Iris-versicolor', 'Iris-virginica'])\n",
        "#d4[i:] = (cat== sp).astype('float)"
      ],
      "execution_count": null,
      "outputs": []
    },
    {
      "cell_type": "markdown",
      "metadata": {
        "id": "M2hG7fHQccol"
      },
      "source": [
        "# 8 Normalização das Entradas\n",
        "\n",
        "Encontre o valor máximo e mínimo para cada uma das quatro colunas da matriz de entradas. Normalize os valores das entradas no intervalo entre zero e um, salvando o resultado em um `array` do NumPy de nome `d5`."
      ]
    },
    {
      "cell_type": "code",
      "metadata": {
        "id": "2Ia2HVYrae2N"
      },
      "source": [
        "from sklearn import preprocessing"
      ],
      "execution_count": null,
      "outputs": []
    },
    {
      "cell_type": "code",
      "metadata": {
        "id": "6LJLMP4GdNaB"
      },
      "source": [
        "# Escreva seu código aqui\n",
        "\n",
        "d5 = np.zeros((total, 4))\n",
        "\n",
        "d5 = (d3 - np.min(d3, axis=0))/(np.max(d3, axis=0) -np.min(d3, axis=0))"
      ],
      "execution_count": null,
      "outputs": []
    },
    {
      "cell_type": "code",
      "metadata": {
        "id": "2Y3LHDt9e4C_",
        "colab": {
          "base_uri": "https://localhost:8080/",
          "height": 46
        },
        "outputId": "c60bc5f0-83d4-4539-b150-65e462a77b6d"
      },
      "source": [
        "ok.check('e03_8.py')"
      ],
      "execution_count": null,
      "outputs": [
        {
          "output_type": "execute_result",
          "data": {
            "text/html": [
              "\n",
              "    \n",
              "    \n",
              "        <p>All tests passed!</p>\n",
              "    \n",
              "    "
            ],
            "text/plain": [
              "<gofer.ok.OKTestsResult at 0x7fd960fa1b10>"
            ]
          },
          "metadata": {},
          "execution_count": 122
        }
      ]
    },
    {
      "cell_type": "code",
      "metadata": {
        "colab": {
          "base_uri": "https://localhost:8080/"
        },
        "id": "CYviTposnvXb",
        "outputId": "68ef2d60-e1bf-4512-9fa7-0667d91774b7"
      },
      "source": [
        "d5"
      ],
      "execution_count": null,
      "outputs": [
        {
          "output_type": "execute_result",
          "data": {
            "text/plain": [
              "array([[0.22222222, 0.625     , 0.06779661, 0.04166667],\n",
              "       [0.16666667, 0.41666667, 0.06779661, 0.04166667],\n",
              "       [0.11111111, 0.5       , 0.05084746, 0.04166667],\n",
              "       [0.08333333, 0.45833333, 0.08474576, 0.04166667],\n",
              "       [0.19444444, 0.66666667, 0.06779661, 0.04166667],\n",
              "       [0.30555556, 0.79166667, 0.11864407, 0.125     ],\n",
              "       [0.08333333, 0.58333333, 0.06779661, 0.08333333],\n",
              "       [0.19444444, 0.58333333, 0.08474576, 0.04166667],\n",
              "       [0.02777778, 0.375     , 0.06779661, 0.04166667],\n",
              "       [0.16666667, 0.45833333, 0.08474576, 0.        ],\n",
              "       [0.30555556, 0.70833333, 0.08474576, 0.04166667],\n",
              "       [0.13888889, 0.58333333, 0.10169492, 0.04166667],\n",
              "       [0.13888889, 0.41666667, 0.06779661, 0.        ],\n",
              "       [0.        , 0.41666667, 0.01694915, 0.        ],\n",
              "       [0.41666667, 0.83333333, 0.03389831, 0.04166667],\n",
              "       [0.38888889, 1.        , 0.08474576, 0.125     ],\n",
              "       [0.30555556, 0.79166667, 0.05084746, 0.125     ],\n",
              "       [0.22222222, 0.625     , 0.06779661, 0.08333333],\n",
              "       [0.38888889, 0.75      , 0.11864407, 0.08333333],\n",
              "       [0.22222222, 0.75      , 0.08474576, 0.08333333],\n",
              "       [0.30555556, 0.58333333, 0.11864407, 0.04166667],\n",
              "       [0.22222222, 0.70833333, 0.08474576, 0.125     ],\n",
              "       [0.08333333, 0.66666667, 0.        , 0.04166667],\n",
              "       [0.22222222, 0.54166667, 0.11864407, 0.16666667],\n",
              "       [0.13888889, 0.58333333, 0.15254237, 0.04166667],\n",
              "       [0.19444444, 0.41666667, 0.10169492, 0.04166667],\n",
              "       [0.19444444, 0.58333333, 0.10169492, 0.125     ],\n",
              "       [0.25      , 0.625     , 0.08474576, 0.04166667],\n",
              "       [0.25      , 0.58333333, 0.06779661, 0.04166667],\n",
              "       [0.11111111, 0.5       , 0.10169492, 0.04166667],\n",
              "       [0.13888889, 0.45833333, 0.10169492, 0.04166667],\n",
              "       [0.30555556, 0.58333333, 0.08474576, 0.125     ],\n",
              "       [0.25      , 0.875     , 0.08474576, 0.        ],\n",
              "       [0.33333333, 0.91666667, 0.06779661, 0.04166667],\n",
              "       [0.16666667, 0.45833333, 0.08474576, 0.        ],\n",
              "       [0.19444444, 0.5       , 0.03389831, 0.04166667],\n",
              "       [0.33333333, 0.625     , 0.05084746, 0.04166667],\n",
              "       [0.16666667, 0.45833333, 0.08474576, 0.        ],\n",
              "       [0.02777778, 0.41666667, 0.05084746, 0.04166667],\n",
              "       [0.22222222, 0.58333333, 0.08474576, 0.04166667],\n",
              "       [0.19444444, 0.625     , 0.05084746, 0.08333333],\n",
              "       [0.05555556, 0.125     , 0.05084746, 0.08333333],\n",
              "       [0.02777778, 0.5       , 0.05084746, 0.04166667],\n",
              "       [0.19444444, 0.625     , 0.10169492, 0.20833333],\n",
              "       [0.22222222, 0.75      , 0.15254237, 0.125     ],\n",
              "       [0.13888889, 0.41666667, 0.06779661, 0.08333333],\n",
              "       [0.22222222, 0.75      , 0.10169492, 0.04166667],\n",
              "       [0.08333333, 0.5       , 0.06779661, 0.04166667],\n",
              "       [0.27777778, 0.70833333, 0.08474576, 0.04166667],\n",
              "       [0.19444444, 0.54166667, 0.06779661, 0.04166667],\n",
              "       [0.75      , 0.5       , 0.62711864, 0.54166667],\n",
              "       [0.58333333, 0.5       , 0.59322034, 0.58333333],\n",
              "       [0.72222222, 0.45833333, 0.66101695, 0.58333333],\n",
              "       [0.33333333, 0.125     , 0.50847458, 0.5       ],\n",
              "       [0.61111111, 0.33333333, 0.61016949, 0.58333333],\n",
              "       [0.38888889, 0.33333333, 0.59322034, 0.5       ],\n",
              "       [0.55555556, 0.54166667, 0.62711864, 0.625     ],\n",
              "       [0.16666667, 0.16666667, 0.38983051, 0.375     ],\n",
              "       [0.63888889, 0.375     , 0.61016949, 0.5       ],\n",
              "       [0.25      , 0.29166667, 0.49152542, 0.54166667],\n",
              "       [0.19444444, 0.        , 0.42372881, 0.375     ],\n",
              "       [0.44444444, 0.41666667, 0.54237288, 0.58333333],\n",
              "       [0.47222222, 0.08333333, 0.50847458, 0.375     ],\n",
              "       [0.5       , 0.375     , 0.62711864, 0.54166667],\n",
              "       [0.36111111, 0.375     , 0.44067797, 0.5       ],\n",
              "       [0.66666667, 0.45833333, 0.57627119, 0.54166667],\n",
              "       [0.36111111, 0.41666667, 0.59322034, 0.58333333],\n",
              "       [0.41666667, 0.29166667, 0.52542373, 0.375     ],\n",
              "       [0.52777778, 0.08333333, 0.59322034, 0.58333333],\n",
              "       [0.36111111, 0.20833333, 0.49152542, 0.41666667],\n",
              "       [0.44444444, 0.5       , 0.6440678 , 0.70833333],\n",
              "       [0.5       , 0.33333333, 0.50847458, 0.5       ],\n",
              "       [0.55555556, 0.20833333, 0.66101695, 0.58333333],\n",
              "       [0.5       , 0.33333333, 0.62711864, 0.45833333],\n",
              "       [0.58333333, 0.375     , 0.55932203, 0.5       ],\n",
              "       [0.63888889, 0.41666667, 0.57627119, 0.54166667],\n",
              "       [0.69444444, 0.33333333, 0.6440678 , 0.54166667],\n",
              "       [0.66666667, 0.41666667, 0.6779661 , 0.66666667],\n",
              "       [0.47222222, 0.375     , 0.59322034, 0.58333333],\n",
              "       [0.38888889, 0.25      , 0.42372881, 0.375     ],\n",
              "       [0.33333333, 0.16666667, 0.47457627, 0.41666667],\n",
              "       [0.33333333, 0.16666667, 0.45762712, 0.375     ],\n",
              "       [0.41666667, 0.29166667, 0.49152542, 0.45833333],\n",
              "       [0.47222222, 0.29166667, 0.69491525, 0.625     ],\n",
              "       [0.30555556, 0.41666667, 0.59322034, 0.58333333],\n",
              "       [0.47222222, 0.58333333, 0.59322034, 0.625     ],\n",
              "       [0.66666667, 0.45833333, 0.62711864, 0.58333333],\n",
              "       [0.55555556, 0.125     , 0.57627119, 0.5       ],\n",
              "       [0.36111111, 0.41666667, 0.52542373, 0.5       ],\n",
              "       [0.33333333, 0.20833333, 0.50847458, 0.5       ],\n",
              "       [0.33333333, 0.25      , 0.57627119, 0.45833333],\n",
              "       [0.5       , 0.41666667, 0.61016949, 0.54166667],\n",
              "       [0.41666667, 0.25      , 0.50847458, 0.45833333],\n",
              "       [0.19444444, 0.125     , 0.38983051, 0.375     ],\n",
              "       [0.36111111, 0.29166667, 0.54237288, 0.5       ],\n",
              "       [0.38888889, 0.41666667, 0.54237288, 0.45833333],\n",
              "       [0.38888889, 0.375     , 0.54237288, 0.5       ],\n",
              "       [0.52777778, 0.375     , 0.55932203, 0.5       ],\n",
              "       [0.22222222, 0.20833333, 0.33898305, 0.41666667],\n",
              "       [0.38888889, 0.33333333, 0.52542373, 0.5       ],\n",
              "       [0.55555556, 0.54166667, 0.84745763, 1.        ],\n",
              "       [0.41666667, 0.29166667, 0.69491525, 0.75      ],\n",
              "       [0.77777778, 0.41666667, 0.83050847, 0.83333333],\n",
              "       [0.55555556, 0.375     , 0.77966102, 0.70833333],\n",
              "       [0.61111111, 0.41666667, 0.81355932, 0.875     ],\n",
              "       [0.91666667, 0.41666667, 0.94915254, 0.83333333],\n",
              "       [0.16666667, 0.20833333, 0.59322034, 0.66666667],\n",
              "       [0.83333333, 0.375     , 0.89830508, 0.70833333],\n",
              "       [0.66666667, 0.20833333, 0.81355932, 0.70833333],\n",
              "       [0.80555556, 0.66666667, 0.86440678, 1.        ],\n",
              "       [0.61111111, 0.5       , 0.69491525, 0.79166667],\n",
              "       [0.58333333, 0.29166667, 0.72881356, 0.75      ],\n",
              "       [0.69444444, 0.41666667, 0.76271186, 0.83333333],\n",
              "       [0.38888889, 0.20833333, 0.6779661 , 0.79166667],\n",
              "       [0.41666667, 0.33333333, 0.69491525, 0.95833333],\n",
              "       [0.58333333, 0.5       , 0.72881356, 0.91666667],\n",
              "       [0.61111111, 0.41666667, 0.76271186, 0.70833333],\n",
              "       [0.94444444, 0.75      , 0.96610169, 0.875     ],\n",
              "       [0.94444444, 0.25      , 1.        , 0.91666667],\n",
              "       [0.47222222, 0.08333333, 0.6779661 , 0.58333333],\n",
              "       [0.72222222, 0.5       , 0.79661017, 0.91666667],\n",
              "       [0.36111111, 0.33333333, 0.66101695, 0.79166667],\n",
              "       [0.94444444, 0.33333333, 0.96610169, 0.79166667],\n",
              "       [0.55555556, 0.29166667, 0.66101695, 0.70833333],\n",
              "       [0.66666667, 0.54166667, 0.79661017, 0.83333333],\n",
              "       [0.80555556, 0.5       , 0.84745763, 0.70833333],\n",
              "       [0.52777778, 0.33333333, 0.6440678 , 0.70833333],\n",
              "       [0.5       , 0.41666667, 0.66101695, 0.70833333],\n",
              "       [0.58333333, 0.33333333, 0.77966102, 0.83333333],\n",
              "       [0.80555556, 0.41666667, 0.81355932, 0.625     ],\n",
              "       [0.86111111, 0.33333333, 0.86440678, 0.75      ],\n",
              "       [1.        , 0.75      , 0.91525424, 0.79166667],\n",
              "       [0.58333333, 0.33333333, 0.77966102, 0.875     ],\n",
              "       [0.55555556, 0.33333333, 0.69491525, 0.58333333],\n",
              "       [0.5       , 0.25      , 0.77966102, 0.54166667],\n",
              "       [0.94444444, 0.41666667, 0.86440678, 0.91666667],\n",
              "       [0.55555556, 0.58333333, 0.77966102, 0.95833333],\n",
              "       [0.58333333, 0.45833333, 0.76271186, 0.70833333],\n",
              "       [0.47222222, 0.41666667, 0.6440678 , 0.70833333],\n",
              "       [0.72222222, 0.45833333, 0.74576271, 0.83333333],\n",
              "       [0.66666667, 0.45833333, 0.77966102, 0.95833333],\n",
              "       [0.72222222, 0.45833333, 0.69491525, 0.91666667],\n",
              "       [0.41666667, 0.29166667, 0.69491525, 0.75      ],\n",
              "       [0.69444444, 0.5       , 0.83050847, 0.91666667],\n",
              "       [0.66666667, 0.54166667, 0.79661017, 1.        ],\n",
              "       [0.66666667, 0.41666667, 0.71186441, 0.91666667],\n",
              "       [0.55555556, 0.20833333, 0.6779661 , 0.75      ],\n",
              "       [0.61111111, 0.41666667, 0.71186441, 0.79166667],\n",
              "       [0.52777778, 0.58333333, 0.74576271, 0.91666667],\n",
              "       [0.44444444, 0.41666667, 0.69491525, 0.70833333]])"
            ]
          },
          "metadata": {},
          "execution_count": 123
        }
      ]
    },
    {
      "cell_type": "markdown",
      "metadata": {
        "id": "2JMfjj63gdsZ"
      },
      "source": [
        "# 9 Embaralhamento dos Dados\n",
        "\n",
        "Misture as linhas dos dados dos valores de entradas de treinamento contidos em `d5` de forma aleatória. Faça o mesmo com as linhas das saídas desejadas em `d4`, de forma a manter a correspondência entre ambos. Chame a `array` resultante de dados de treinamento embaralhado de `x` e a `array` correspondente de saídas desejadas de `y`."
      ]
    },
    {
      "cell_type": "code",
      "metadata": {
        "id": "u0weu3mshbro"
      },
      "source": [
        "# Escreva seu código aqui\n",
        "from sklearn.utils import shuffle\n",
        "\n",
        "x, y = shuffle(d5, d4, random_state = 0)"
      ],
      "execution_count": null,
      "outputs": []
    },
    {
      "cell_type": "code",
      "metadata": {
        "id": "g1OinS58n2eV",
        "colab": {
          "base_uri": "https://localhost:8080/",
          "height": 46
        },
        "outputId": "0a01bc30-d6e2-495f-a1ec-758dc1a02c42"
      },
      "source": [
        "ok.check('e03_9.py')"
      ],
      "execution_count": null,
      "outputs": [
        {
          "output_type": "execute_result",
          "data": {
            "text/html": [
              "\n",
              "    \n",
              "    \n",
              "        <p>All tests passed!</p>\n",
              "    \n",
              "    "
            ],
            "text/plain": [
              "<gofer.ok.OKTestsResult at 0x7fd9605a9f10>"
            ]
          },
          "metadata": {},
          "execution_count": 127
        }
      ]
    },
    {
      "cell_type": "markdown",
      "metadata": {
        "id": "g7RxpU4CoscS"
      },
      "source": [
        "# 10 Separação de Dados de Treinamento e Validação\n",
        "\n",
        "Separe os pares de dados de treinamento e validação nas proporções 90%/10%, respectivamente. Chame a entrada e saída desejada dos pares de treinamento de `x_train` e `y_train`, e use os nomes `x_test` e `y_test` para os dados de validação. Os dados de validação devem corresponder às linhas finais dos pares de `array` originais `x` e `y`."
      ]
    },
    {
      "cell_type": "code",
      "metadata": {
        "id": "SRkhMW3sryCd"
      },
      "source": [
        "from sklearn.model_selection import train_test_split"
      ],
      "execution_count": null,
      "outputs": []
    },
    {
      "cell_type": "code",
      "metadata": {
        "id": "cKtuZjXfphhe"
      },
      "source": [
        "# Escreva seu código aqui\n",
        "\n",
        "x_train = x[:135]\n",
        "x_test = x[135:]\n",
        "y_train = y[:135]\n",
        "y_test = y[135:]"
      ],
      "execution_count": null,
      "outputs": []
    },
    {
      "cell_type": "code",
      "metadata": {
        "id": "jLfamQPqpu3w",
        "colab": {
          "base_uri": "https://localhost:8080/",
          "height": 46
        },
        "outputId": "90c72987-fcfc-4e8f-df54-465fcbbd1d9c"
      },
      "source": [
        "ok.check('e03_10.py')"
      ],
      "execution_count": null,
      "outputs": [
        {
          "output_type": "execute_result",
          "data": {
            "text/html": [
              "\n",
              "    \n",
              "    \n",
              "        <p>All tests passed!</p>\n",
              "    \n",
              "    "
            ],
            "text/plain": [
              "<gofer.ok.OKTestsResult at 0x7fd9604a22d0>"
            ]
          },
          "metadata": {},
          "execution_count": 149
        }
      ]
    },
    {
      "cell_type": "code",
      "metadata": {
        "colab": {
          "base_uri": "https://localhost:8080/"
        },
        "id": "AH6oNG_9u6aF",
        "outputId": "3274f6ff-2edb-462e-9cdb-3fc29913b3a2"
      },
      "source": [
        "x_train"
      ],
      "execution_count": null,
      "outputs": [
        {
          "output_type": "execute_result",
          "data": {
            "text/plain": [
              "array([[0.41666667, 0.33333333, 0.69491525, 0.95833333],\n",
              "       [0.47222222, 0.08333333, 0.50847458, 0.375     ],\n",
              "       [0.33333333, 0.91666667, 0.06779661, 0.04166667],\n",
              "       [0.83333333, 0.375     , 0.89830508, 0.70833333],\n",
              "       [0.19444444, 0.58333333, 0.08474576, 0.04166667],\n",
              "       [0.55555556, 0.54166667, 0.84745763, 1.        ],\n",
              "       [0.19444444, 0.625     , 0.05084746, 0.08333333],\n",
              "       [0.66666667, 0.45833333, 0.62711864, 0.58333333],\n",
              "       [0.69444444, 0.33333333, 0.6440678 , 0.54166667],\n",
              "       [0.5       , 0.33333333, 0.50847458, 0.5       ],\n",
              "       [0.5       , 0.25      , 0.77966102, 0.54166667],\n",
              "       [0.58333333, 0.5       , 0.59322034, 0.58333333],\n",
              "       [0.5       , 0.33333333, 0.62711864, 0.45833333],\n",
              "       [0.61111111, 0.33333333, 0.61016949, 0.58333333],\n",
              "       [0.5       , 0.375     , 0.62711864, 0.54166667],\n",
              "       [0.16666667, 0.45833333, 0.08474576, 0.        ],\n",
              "       [0.47222222, 0.375     , 0.59322034, 0.58333333],\n",
              "       [0.33333333, 0.25      , 0.57627119, 0.45833333],\n",
              "       [0.13888889, 0.41666667, 0.06779661, 0.08333333],\n",
              "       [0.30555556, 0.79166667, 0.05084746, 0.125     ],\n",
              "       [0.36111111, 0.33333333, 0.66101695, 0.79166667],\n",
              "       [0.36111111, 0.41666667, 0.59322034, 0.58333333],\n",
              "       [0.13888889, 0.58333333, 0.15254237, 0.04166667],\n",
              "       [0.02777778, 0.375     , 0.06779661, 0.04166667],\n",
              "       [0.52777778, 0.33333333, 0.6440678 , 0.70833333],\n",
              "       [0.08333333, 0.66666667, 0.        , 0.04166667],\n",
              "       [0.22222222, 0.75      , 0.15254237, 0.125     ],\n",
              "       [0.52777778, 0.375     , 0.55932203, 0.5       ],\n",
              "       [0.19444444, 0.125     , 0.38983051, 0.375     ],\n",
              "       [0.19444444, 0.58333333, 0.10169492, 0.125     ],\n",
              "       [0.58333333, 0.45833333, 0.76271186, 0.70833333],\n",
              "       [0.30555556, 0.41666667, 0.59322034, 0.58333333],\n",
              "       [0.25      , 0.625     , 0.08474576, 0.04166667],\n",
              "       [0.5       , 0.41666667, 0.66101695, 0.70833333],\n",
              "       [0.58333333, 0.33333333, 0.77966102, 0.875     ],\n",
              "       [0.25      , 0.29166667, 0.49152542, 0.54166667],\n",
              "       [0.38888889, 0.75      , 0.11864407, 0.08333333],\n",
              "       [0.47222222, 0.29166667, 0.69491525, 0.625     ],\n",
              "       [0.44444444, 0.41666667, 0.54237288, 0.58333333],\n",
              "       [0.41666667, 0.25      , 0.50847458, 0.45833333],\n",
              "       [0.69444444, 0.41666667, 0.76271186, 0.83333333],\n",
              "       [0.11111111, 0.5       , 0.05084746, 0.04166667],\n",
              "       [0.72222222, 0.45833333, 0.69491525, 0.91666667],\n",
              "       [0.19444444, 0.625     , 0.10169492, 0.20833333],\n",
              "       [0.30555556, 0.70833333, 0.08474576, 0.04166667],\n",
              "       [0.19444444, 0.        , 0.42372881, 0.375     ],\n",
              "       [0.61111111, 0.41666667, 0.76271186, 0.70833333],\n",
              "       [0.66666667, 0.54166667, 0.79661017, 1.        ],\n",
              "       [0.47222222, 0.08333333, 0.6779661 , 0.58333333],\n",
              "       [0.66666667, 0.20833333, 0.81355932, 0.70833333],\n",
              "       [0.36111111, 0.20833333, 0.49152542, 0.41666667],\n",
              "       [0.94444444, 0.41666667, 0.86440678, 0.91666667],\n",
              "       [0.55555556, 0.54166667, 0.62711864, 0.625     ],\n",
              "       [0.33333333, 0.16666667, 0.47457627, 0.41666667],\n",
              "       [0.55555556, 0.29166667, 0.66101695, 0.70833333],\n",
              "       [0.55555556, 0.33333333, 0.69491525, 0.58333333],\n",
              "       [0.16666667, 0.20833333, 0.59322034, 0.66666667],\n",
              "       [0.55555556, 0.20833333, 0.6779661 , 0.75      ],\n",
              "       [0.75      , 0.5       , 0.62711864, 0.54166667],\n",
              "       [0.61111111, 0.41666667, 0.71186441, 0.79166667],\n",
              "       [0.47222222, 0.58333333, 0.59322034, 0.625     ],\n",
              "       [0.13888889, 0.45833333, 0.10169492, 0.04166667],\n",
              "       [0.41666667, 0.29166667, 0.69491525, 0.75      ],\n",
              "       [0.36111111, 0.29166667, 0.54237288, 0.5       ],\n",
              "       [0.36111111, 0.375     , 0.44067797, 0.5       ],\n",
              "       [0.33333333, 0.20833333, 0.50847458, 0.5       ],\n",
              "       [0.5       , 0.41666667, 0.61016949, 0.54166667],\n",
              "       [0.80555556, 0.5       , 0.84745763, 0.70833333],\n",
              "       [0.27777778, 0.70833333, 0.08474576, 0.04166667],\n",
              "       [0.        , 0.41666667, 0.01694915, 0.        ],\n",
              "       [0.58333333, 0.29166667, 0.72881356, 0.75      ],\n",
              "       [0.38888889, 0.41666667, 0.54237288, 0.45833333],\n",
              "       [0.30555556, 0.58333333, 0.11864407, 0.04166667],\n",
              "       [0.38888889, 1.        , 0.08474576, 0.125     ],\n",
              "       [0.72222222, 0.45833333, 0.66101695, 0.58333333],\n",
              "       [0.08333333, 0.45833333, 0.08474576, 0.04166667],\n",
              "       [0.44444444, 0.41666667, 0.69491525, 0.70833333],\n",
              "       [0.22222222, 0.20833333, 0.33898305, 0.41666667],\n",
              "       [0.08333333, 0.58333333, 0.06779661, 0.08333333],\n",
              "       [0.52777778, 0.08333333, 0.59322034, 0.58333333],\n",
              "       [0.80555556, 0.66666667, 0.86440678, 1.        ],\n",
              "       [0.38888889, 0.375     , 0.54237288, 0.5       ],\n",
              "       [0.13888889, 0.41666667, 0.06779661, 0.        ],\n",
              "       [0.77777778, 0.41666667, 0.83050847, 0.83333333],\n",
              "       [0.72222222, 0.5       , 0.79661017, 0.91666667],\n",
              "       [0.61111111, 0.41666667, 0.81355932, 0.875     ],\n",
              "       [0.58333333, 0.33333333, 0.77966102, 0.83333333],\n",
              "       [0.22222222, 0.75      , 0.10169492, 0.04166667],\n",
              "       [0.13888889, 0.58333333, 0.10169492, 0.04166667],\n",
              "       [0.61111111, 0.5       , 0.69491525, 0.79166667],\n",
              "       [0.66666667, 0.54166667, 0.79661017, 0.83333333],\n",
              "       [0.05555556, 0.125     , 0.05084746, 0.08333333],\n",
              "       [0.52777778, 0.58333333, 0.74576271, 0.91666667],\n",
              "       [0.16666667, 0.41666667, 0.06779661, 0.04166667],\n",
              "       [0.38888889, 0.20833333, 0.6779661 , 0.79166667],\n",
              "       [0.72222222, 0.45833333, 0.74576271, 0.83333333],\n",
              "       [0.02777778, 0.5       , 0.05084746, 0.04166667],\n",
              "       [0.19444444, 0.66666667, 0.06779661, 0.04166667],\n",
              "       [0.80555556, 0.41666667, 0.81355932, 0.625     ],\n",
              "       [0.22222222, 0.625     , 0.06779661, 0.08333333],\n",
              "       [0.02777778, 0.41666667, 0.05084746, 0.04166667],\n",
              "       [0.30555556, 0.79166667, 0.11864407, 0.125     ],\n",
              "       [0.33333333, 0.125     , 0.50847458, 0.5       ],\n",
              "       [0.69444444, 0.5       , 0.83050847, 0.91666667],\n",
              "       [0.91666667, 0.41666667, 0.94915254, 0.83333333],\n",
              "       [0.22222222, 0.625     , 0.06779661, 0.04166667],\n",
              "       [0.16666667, 0.45833333, 0.08474576, 0.        ],\n",
              "       [0.25      , 0.58333333, 0.06779661, 0.04166667],\n",
              "       [0.38888889, 0.33333333, 0.59322034, 0.5       ],\n",
              "       [0.63888889, 0.41666667, 0.57627119, 0.54166667],\n",
              "       [0.19444444, 0.5       , 0.03389831, 0.04166667],\n",
              "       [0.22222222, 0.54166667, 0.11864407, 0.16666667],\n",
              "       [0.58333333, 0.375     , 0.55932203, 0.5       ],\n",
              "       [0.30555556, 0.58333333, 0.08474576, 0.125     ],\n",
              "       [0.94444444, 0.25      , 1.        , 0.91666667],\n",
              "       [0.16666667, 0.16666667, 0.38983051, 0.375     ],\n",
              "       [1.        , 0.75      , 0.91525424, 0.79166667],\n",
              "       [0.66666667, 0.45833333, 0.57627119, 0.54166667],\n",
              "       [0.25      , 0.875     , 0.08474576, 0.        ],\n",
              "       [0.47222222, 0.41666667, 0.6440678 , 0.70833333],\n",
              "       [0.41666667, 0.83333333, 0.03389831, 0.04166667],\n",
              "       [0.94444444, 0.33333333, 0.96610169, 0.79166667],\n",
              "       [0.22222222, 0.75      , 0.08474576, 0.08333333],\n",
              "       [0.11111111, 0.5       , 0.10169492, 0.04166667],\n",
              "       [0.86111111, 0.33333333, 0.86440678, 0.75      ],\n",
              "       [0.19444444, 0.54166667, 0.06779661, 0.04166667],\n",
              "       [0.55555556, 0.58333333, 0.77966102, 0.95833333],\n",
              "       [0.38888889, 0.33333333, 0.52542373, 0.5       ],\n",
              "       [0.41666667, 0.29166667, 0.49152542, 0.45833333],\n",
              "       [0.38888889, 0.25      , 0.42372881, 0.375     ],\n",
              "       [0.58333333, 0.5       , 0.72881356, 0.91666667],\n",
              "       [0.66666667, 0.41666667, 0.71186441, 0.91666667],\n",
              "       [0.55555556, 0.20833333, 0.66101695, 0.58333333],\n",
              "       [0.66666667, 0.41666667, 0.6779661 , 0.66666667],\n",
              "       [0.19444444, 0.41666667, 0.10169492, 0.04166667]])"
            ]
          },
          "metadata": {},
          "execution_count": 150
        }
      ]
    },
    {
      "cell_type": "code",
      "metadata": {
        "colab": {
          "base_uri": "https://localhost:8080/"
        },
        "id": "XwzGFW00u8dE",
        "outputId": "c29f0281-8fe9-46d4-8c33-1d0691a0339a"
      },
      "source": [
        "y_train"
      ],
      "execution_count": null,
      "outputs": [
        {
          "output_type": "execute_result",
          "data": {
            "text/plain": [
              "array([[0., 0., 1.],\n",
              "       [0., 1., 0.],\n",
              "       [1., 0., 0.],\n",
              "       [0., 0., 1.],\n",
              "       [1., 0., 0.],\n",
              "       [0., 0., 1.],\n",
              "       [1., 0., 0.],\n",
              "       [0., 1., 0.],\n",
              "       [0., 1., 0.],\n",
              "       [0., 1., 0.],\n",
              "       [0., 0., 1.],\n",
              "       [0., 1., 0.],\n",
              "       [0., 1., 0.],\n",
              "       [0., 1., 0.],\n",
              "       [0., 1., 0.],\n",
              "       [1., 0., 0.],\n",
              "       [0., 1., 0.],\n",
              "       [0., 1., 0.],\n",
              "       [1., 0., 0.],\n",
              "       [1., 0., 0.],\n",
              "       [0., 0., 1.],\n",
              "       [0., 1., 0.],\n",
              "       [1., 0., 0.],\n",
              "       [1., 0., 0.],\n",
              "       [0., 0., 1.],\n",
              "       [1., 0., 0.],\n",
              "       [1., 0., 0.],\n",
              "       [0., 1., 0.],\n",
              "       [0., 1., 0.],\n",
              "       [1., 0., 0.],\n",
              "       [0., 0., 1.],\n",
              "       [0., 1., 0.],\n",
              "       [1., 0., 0.],\n",
              "       [0., 0., 1.],\n",
              "       [0., 0., 1.],\n",
              "       [0., 1., 0.],\n",
              "       [1., 0., 0.],\n",
              "       [0., 1., 0.],\n",
              "       [0., 1., 0.],\n",
              "       [0., 1., 0.],\n",
              "       [0., 0., 1.],\n",
              "       [1., 0., 0.],\n",
              "       [0., 0., 1.],\n",
              "       [1., 0., 0.],\n",
              "       [1., 0., 0.],\n",
              "       [0., 1., 0.],\n",
              "       [0., 0., 1.],\n",
              "       [0., 0., 1.],\n",
              "       [0., 0., 1.],\n",
              "       [0., 0., 1.],\n",
              "       [0., 1., 0.],\n",
              "       [0., 0., 1.],\n",
              "       [0., 1., 0.],\n",
              "       [0., 1., 0.],\n",
              "       [0., 0., 1.],\n",
              "       [0., 0., 1.],\n",
              "       [0., 0., 1.],\n",
              "       [0., 0., 1.],\n",
              "       [0., 1., 0.],\n",
              "       [0., 0., 1.],\n",
              "       [0., 1., 0.],\n",
              "       [1., 0., 0.],\n",
              "       [0., 0., 1.],\n",
              "       [0., 1., 0.],\n",
              "       [0., 1., 0.],\n",
              "       [0., 1., 0.],\n",
              "       [0., 1., 0.],\n",
              "       [0., 0., 1.],\n",
              "       [1., 0., 0.],\n",
              "       [1., 0., 0.],\n",
              "       [0., 0., 1.],\n",
              "       [0., 1., 0.],\n",
              "       [1., 0., 0.],\n",
              "       [1., 0., 0.],\n",
              "       [0., 1., 0.],\n",
              "       [1., 0., 0.],\n",
              "       [0., 0., 1.],\n",
              "       [0., 1., 0.],\n",
              "       [1., 0., 0.],\n",
              "       [0., 1., 0.],\n",
              "       [0., 0., 1.],\n",
              "       [0., 1., 0.],\n",
              "       [1., 0., 0.],\n",
              "       [0., 0., 1.],\n",
              "       [0., 0., 1.],\n",
              "       [0., 0., 1.],\n",
              "       [0., 0., 1.],\n",
              "       [1., 0., 0.],\n",
              "       [1., 0., 0.],\n",
              "       [0., 0., 1.],\n",
              "       [0., 0., 1.],\n",
              "       [1., 0., 0.],\n",
              "       [0., 0., 1.],\n",
              "       [1., 0., 0.],\n",
              "       [0., 0., 1.],\n",
              "       [0., 0., 1.],\n",
              "       [1., 0., 0.],\n",
              "       [1., 0., 0.],\n",
              "       [0., 0., 1.],\n",
              "       [1., 0., 0.],\n",
              "       [1., 0., 0.],\n",
              "       [1., 0., 0.],\n",
              "       [0., 1., 0.],\n",
              "       [0., 0., 1.],\n",
              "       [0., 0., 1.],\n",
              "       [1., 0., 0.],\n",
              "       [1., 0., 0.],\n",
              "       [1., 0., 0.],\n",
              "       [0., 1., 0.],\n",
              "       [0., 1., 0.],\n",
              "       [1., 0., 0.],\n",
              "       [1., 0., 0.],\n",
              "       [0., 1., 0.],\n",
              "       [1., 0., 0.],\n",
              "       [0., 0., 1.],\n",
              "       [0., 1., 0.],\n",
              "       [0., 0., 1.],\n",
              "       [0., 1., 0.],\n",
              "       [1., 0., 0.],\n",
              "       [0., 0., 1.],\n",
              "       [1., 0., 0.],\n",
              "       [0., 0., 1.],\n",
              "       [1., 0., 0.],\n",
              "       [1., 0., 0.],\n",
              "       [0., 0., 1.],\n",
              "       [1., 0., 0.],\n",
              "       [0., 0., 1.],\n",
              "       [0., 1., 0.],\n",
              "       [0., 1., 0.],\n",
              "       [0., 1., 0.],\n",
              "       [0., 0., 1.],\n",
              "       [0., 0., 1.],\n",
              "       [0., 1., 0.],\n",
              "       [0., 1., 0.],\n",
              "       [1., 0., 0.]])"
            ]
          },
          "metadata": {},
          "execution_count": 151
        }
      ]
    }
  ]
}